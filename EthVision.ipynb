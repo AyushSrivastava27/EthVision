{
  "nbformat": 4,
  "nbformat_minor": 0,
  "metadata": {
    "colab": {
      "provenance": [],
      "gpuType": "T4",
      "authorship_tag": "ABX9TyN+bnPeoKW+5SdrypdcpZ/w",
      "include_colab_link": true
    },
    "kernelspec": {
      "name": "python3",
      "display_name": "Python 3"
    },
    "language_info": {
      "name": "python"
    },
    "accelerator": "GPU"
  },
  "cells": [
    {
      "cell_type": "markdown",
      "metadata": {
        "id": "view-in-github",
        "colab_type": "text"
      },
      "source": [
        "<a href=\"https://colab.research.google.com/github/AyushSrivastava27/EthVision/blob/main/EthVision.ipynb\" target=\"_parent\"><img src=\"https://colab.research.google.com/assets/colab-badge.svg\" alt=\"Open In Colab\"/></a>"
      ]
    },
    {
      "cell_type": "markdown",
      "source": [
        "Dataset:https://finance.yahoo.com/quote/ETH-USD/history"
      ],
      "metadata": {
        "id": "v0Y61Hem5SDI"
      }
    },
    {
      "cell_type": "code",
      "source": [
        "# Check for GPU\n",
        "!nvidia-smi -L"
      ],
      "metadata": {
        "colab": {
          "base_uri": "https://localhost:8080/"
        },
        "id": "98ZEMmGFUF41",
        "outputId": "01782262-d4de-4a9e-9600-39f1300fd9e4"
      },
      "execution_count": 1,
      "outputs": [
        {
          "output_type": "stream",
          "name": "stdout",
          "text": [
            "GPU 0: Tesla T4 (UUID: GPU-60e2b934-eaeb-664b-21d1-d0ea73bc32fc)\n"
          ]
        }
      ]
    },
    {
      "cell_type": "code",
      "execution_count": 2,
      "metadata": {
        "id": "KUR-XzHWBKyo",
        "colab": {
          "base_uri": "https://localhost:8080/"
        },
        "outputId": "1d4847b6-bced-4cc0-ee7d-185e271ce883"
      },
      "outputs": [
        {
          "output_type": "stream",
          "name": "stdout",
          "text": [
            "--2024-03-30 15:19:57--  https://raw.githubusercontent.com/AyushSrivastava27/EthVision/main/ETH-USD.csv\n",
            "Resolving raw.githubusercontent.com (raw.githubusercontent.com)... 185.199.108.133, 185.199.109.133, 185.199.110.133, ...\n",
            "Connecting to raw.githubusercontent.com (raw.githubusercontent.com)|185.199.108.133|:443... connected.\n",
            "HTTP request sent, awaiting response... 200 OK\n",
            "Length: 186340 (182K) [text/plain]\n",
            "Saving to: ‘ETH-USD.csv’\n",
            "\n",
            "ETH-USD.csv         100%[===================>] 181.97K  --.-KB/s    in 0.01s   \n",
            "\n",
            "2024-03-30 15:19:57 (11.9 MB/s) - ‘ETH-USD.csv’ saved [186340/186340]\n",
            "\n"
          ]
        }
      ],
      "source": [
        "!wget https://raw.githubusercontent.com/AyushSrivastava27/EthVision/main/ETH-USD.csv"
      ]
    },
    {
      "cell_type": "code",
      "source": [
        "import pandas as pd\n",
        "df = pd.read_csv(\"/content/ETH-USD.csv\",\n",
        "                 parse_dates = [\"Date\"],\n",
        "                 index_col = [\"Date\"])\n",
        "df.head()"
      ],
      "metadata": {
        "colab": {
          "base_uri": "https://localhost:8080/",
          "height": 237
        },
        "id": "-w3MXXXKUIVa",
        "outputId": "50eedfb6-96bf-4abf-c03e-19a22c54cd57"
      },
      "execution_count": 3,
      "outputs": [
        {
          "output_type": "execute_result",
          "data": {
            "text/plain": [
              "                  Open        High         Low       Close   Adj Close  \\\n",
              "Date                                                                     \n",
              "2017-11-09  308.644989  329.451996  307.056000  320.884003  320.884003   \n",
              "2017-11-10  320.670990  324.717987  294.541992  299.252991  299.252991   \n",
              "2017-11-11  298.585999  319.453003  298.191986  314.681000  314.681000   \n",
              "2017-11-12  314.690002  319.153015  298.513000  307.907990  307.907990   \n",
              "2017-11-13  307.024994  328.415009  307.024994  316.716003  316.716003   \n",
              "\n",
              "                Volume  \n",
              "Date                    \n",
              "2017-11-09   893249984  \n",
              "2017-11-10   885985984  \n",
              "2017-11-11   842300992  \n",
              "2017-11-12  1613479936  \n",
              "2017-11-13  1041889984  "
            ],
            "text/html": [
              "\n",
              "  <div id=\"df-b9bb6dd4-620c-4a7e-9431-bd4dd8173f5a\" class=\"colab-df-container\">\n",
              "    <div>\n",
              "<style scoped>\n",
              "    .dataframe tbody tr th:only-of-type {\n",
              "        vertical-align: middle;\n",
              "    }\n",
              "\n",
              "    .dataframe tbody tr th {\n",
              "        vertical-align: top;\n",
              "    }\n",
              "\n",
              "    .dataframe thead th {\n",
              "        text-align: right;\n",
              "    }\n",
              "</style>\n",
              "<table border=\"1\" class=\"dataframe\">\n",
              "  <thead>\n",
              "    <tr style=\"text-align: right;\">\n",
              "      <th></th>\n",
              "      <th>Open</th>\n",
              "      <th>High</th>\n",
              "      <th>Low</th>\n",
              "      <th>Close</th>\n",
              "      <th>Adj Close</th>\n",
              "      <th>Volume</th>\n",
              "    </tr>\n",
              "    <tr>\n",
              "      <th>Date</th>\n",
              "      <th></th>\n",
              "      <th></th>\n",
              "      <th></th>\n",
              "      <th></th>\n",
              "      <th></th>\n",
              "      <th></th>\n",
              "    </tr>\n",
              "  </thead>\n",
              "  <tbody>\n",
              "    <tr>\n",
              "      <th>2017-11-09</th>\n",
              "      <td>308.644989</td>\n",
              "      <td>329.451996</td>\n",
              "      <td>307.056000</td>\n",
              "      <td>320.884003</td>\n",
              "      <td>320.884003</td>\n",
              "      <td>893249984</td>\n",
              "    </tr>\n",
              "    <tr>\n",
              "      <th>2017-11-10</th>\n",
              "      <td>320.670990</td>\n",
              "      <td>324.717987</td>\n",
              "      <td>294.541992</td>\n",
              "      <td>299.252991</td>\n",
              "      <td>299.252991</td>\n",
              "      <td>885985984</td>\n",
              "    </tr>\n",
              "    <tr>\n",
              "      <th>2017-11-11</th>\n",
              "      <td>298.585999</td>\n",
              "      <td>319.453003</td>\n",
              "      <td>298.191986</td>\n",
              "      <td>314.681000</td>\n",
              "      <td>314.681000</td>\n",
              "      <td>842300992</td>\n",
              "    </tr>\n",
              "    <tr>\n",
              "      <th>2017-11-12</th>\n",
              "      <td>314.690002</td>\n",
              "      <td>319.153015</td>\n",
              "      <td>298.513000</td>\n",
              "      <td>307.907990</td>\n",
              "      <td>307.907990</td>\n",
              "      <td>1613479936</td>\n",
              "    </tr>\n",
              "    <tr>\n",
              "      <th>2017-11-13</th>\n",
              "      <td>307.024994</td>\n",
              "      <td>328.415009</td>\n",
              "      <td>307.024994</td>\n",
              "      <td>316.716003</td>\n",
              "      <td>316.716003</td>\n",
              "      <td>1041889984</td>\n",
              "    </tr>\n",
              "  </tbody>\n",
              "</table>\n",
              "</div>\n",
              "    <div class=\"colab-df-buttons\">\n",
              "\n",
              "  <div class=\"colab-df-container\">\n",
              "    <button class=\"colab-df-convert\" onclick=\"convertToInteractive('df-b9bb6dd4-620c-4a7e-9431-bd4dd8173f5a')\"\n",
              "            title=\"Convert this dataframe to an interactive table.\"\n",
              "            style=\"display:none;\">\n",
              "\n",
              "  <svg xmlns=\"http://www.w3.org/2000/svg\" height=\"24px\" viewBox=\"0 -960 960 960\">\n",
              "    <path d=\"M120-120v-720h720v720H120Zm60-500h600v-160H180v160Zm220 220h160v-160H400v160Zm0 220h160v-160H400v160ZM180-400h160v-160H180v160Zm440 0h160v-160H620v160ZM180-180h160v-160H180v160Zm440 0h160v-160H620v160Z\"/>\n",
              "  </svg>\n",
              "    </button>\n",
              "\n",
              "  <style>\n",
              "    .colab-df-container {\n",
              "      display:flex;\n",
              "      gap: 12px;\n",
              "    }\n",
              "\n",
              "    .colab-df-convert {\n",
              "      background-color: #E8F0FE;\n",
              "      border: none;\n",
              "      border-radius: 50%;\n",
              "      cursor: pointer;\n",
              "      display: none;\n",
              "      fill: #1967D2;\n",
              "      height: 32px;\n",
              "      padding: 0 0 0 0;\n",
              "      width: 32px;\n",
              "    }\n",
              "\n",
              "    .colab-df-convert:hover {\n",
              "      background-color: #E2EBFA;\n",
              "      box-shadow: 0px 1px 2px rgba(60, 64, 67, 0.3), 0px 1px 3px 1px rgba(60, 64, 67, 0.15);\n",
              "      fill: #174EA6;\n",
              "    }\n",
              "\n",
              "    .colab-df-buttons div {\n",
              "      margin-bottom: 4px;\n",
              "    }\n",
              "\n",
              "    [theme=dark] .colab-df-convert {\n",
              "      background-color: #3B4455;\n",
              "      fill: #D2E3FC;\n",
              "    }\n",
              "\n",
              "    [theme=dark] .colab-df-convert:hover {\n",
              "      background-color: #434B5C;\n",
              "      box-shadow: 0px 1px 3px 1px rgba(0, 0, 0, 0.15);\n",
              "      filter: drop-shadow(0px 1px 2px rgba(0, 0, 0, 0.3));\n",
              "      fill: #FFFFFF;\n",
              "    }\n",
              "  </style>\n",
              "\n",
              "    <script>\n",
              "      const buttonEl =\n",
              "        document.querySelector('#df-b9bb6dd4-620c-4a7e-9431-bd4dd8173f5a button.colab-df-convert');\n",
              "      buttonEl.style.display =\n",
              "        google.colab.kernel.accessAllowed ? 'block' : 'none';\n",
              "\n",
              "      async function convertToInteractive(key) {\n",
              "        const element = document.querySelector('#df-b9bb6dd4-620c-4a7e-9431-bd4dd8173f5a');\n",
              "        const dataTable =\n",
              "          await google.colab.kernel.invokeFunction('convertToInteractive',\n",
              "                                                    [key], {});\n",
              "        if (!dataTable) return;\n",
              "\n",
              "        const docLinkHtml = 'Like what you see? Visit the ' +\n",
              "          '<a target=\"_blank\" href=https://colab.research.google.com/notebooks/data_table.ipynb>data table notebook</a>'\n",
              "          + ' to learn more about interactive tables.';\n",
              "        element.innerHTML = '';\n",
              "        dataTable['output_type'] = 'display_data';\n",
              "        await google.colab.output.renderOutput(dataTable, element);\n",
              "        const docLink = document.createElement('div');\n",
              "        docLink.innerHTML = docLinkHtml;\n",
              "        element.appendChild(docLink);\n",
              "      }\n",
              "    </script>\n",
              "  </div>\n",
              "\n",
              "\n",
              "<div id=\"df-d6587524-da68-4ae7-bb67-e533e612896f\">\n",
              "  <button class=\"colab-df-quickchart\" onclick=\"quickchart('df-d6587524-da68-4ae7-bb67-e533e612896f')\"\n",
              "            title=\"Suggest charts\"\n",
              "            style=\"display:none;\">\n",
              "\n",
              "<svg xmlns=\"http://www.w3.org/2000/svg\" height=\"24px\"viewBox=\"0 0 24 24\"\n",
              "     width=\"24px\">\n",
              "    <g>\n",
              "        <path d=\"M19 3H5c-1.1 0-2 .9-2 2v14c0 1.1.9 2 2 2h14c1.1 0 2-.9 2-2V5c0-1.1-.9-2-2-2zM9 17H7v-7h2v7zm4 0h-2V7h2v10zm4 0h-2v-4h2v4z\"/>\n",
              "    </g>\n",
              "</svg>\n",
              "  </button>\n",
              "\n",
              "<style>\n",
              "  .colab-df-quickchart {\n",
              "      --bg-color: #E8F0FE;\n",
              "      --fill-color: #1967D2;\n",
              "      --hover-bg-color: #E2EBFA;\n",
              "      --hover-fill-color: #174EA6;\n",
              "      --disabled-fill-color: #AAA;\n",
              "      --disabled-bg-color: #DDD;\n",
              "  }\n",
              "\n",
              "  [theme=dark] .colab-df-quickchart {\n",
              "      --bg-color: #3B4455;\n",
              "      --fill-color: #D2E3FC;\n",
              "      --hover-bg-color: #434B5C;\n",
              "      --hover-fill-color: #FFFFFF;\n",
              "      --disabled-bg-color: #3B4455;\n",
              "      --disabled-fill-color: #666;\n",
              "  }\n",
              "\n",
              "  .colab-df-quickchart {\n",
              "    background-color: var(--bg-color);\n",
              "    border: none;\n",
              "    border-radius: 50%;\n",
              "    cursor: pointer;\n",
              "    display: none;\n",
              "    fill: var(--fill-color);\n",
              "    height: 32px;\n",
              "    padding: 0;\n",
              "    width: 32px;\n",
              "  }\n",
              "\n",
              "  .colab-df-quickchart:hover {\n",
              "    background-color: var(--hover-bg-color);\n",
              "    box-shadow: 0 1px 2px rgba(60, 64, 67, 0.3), 0 1px 3px 1px rgba(60, 64, 67, 0.15);\n",
              "    fill: var(--button-hover-fill-color);\n",
              "  }\n",
              "\n",
              "  .colab-df-quickchart-complete:disabled,\n",
              "  .colab-df-quickchart-complete:disabled:hover {\n",
              "    background-color: var(--disabled-bg-color);\n",
              "    fill: var(--disabled-fill-color);\n",
              "    box-shadow: none;\n",
              "  }\n",
              "\n",
              "  .colab-df-spinner {\n",
              "    border: 2px solid var(--fill-color);\n",
              "    border-color: transparent;\n",
              "    border-bottom-color: var(--fill-color);\n",
              "    animation:\n",
              "      spin 1s steps(1) infinite;\n",
              "  }\n",
              "\n",
              "  @keyframes spin {\n",
              "    0% {\n",
              "      border-color: transparent;\n",
              "      border-bottom-color: var(--fill-color);\n",
              "      border-left-color: var(--fill-color);\n",
              "    }\n",
              "    20% {\n",
              "      border-color: transparent;\n",
              "      border-left-color: var(--fill-color);\n",
              "      border-top-color: var(--fill-color);\n",
              "    }\n",
              "    30% {\n",
              "      border-color: transparent;\n",
              "      border-left-color: var(--fill-color);\n",
              "      border-top-color: var(--fill-color);\n",
              "      border-right-color: var(--fill-color);\n",
              "    }\n",
              "    40% {\n",
              "      border-color: transparent;\n",
              "      border-right-color: var(--fill-color);\n",
              "      border-top-color: var(--fill-color);\n",
              "    }\n",
              "    60% {\n",
              "      border-color: transparent;\n",
              "      border-right-color: var(--fill-color);\n",
              "    }\n",
              "    80% {\n",
              "      border-color: transparent;\n",
              "      border-right-color: var(--fill-color);\n",
              "      border-bottom-color: var(--fill-color);\n",
              "    }\n",
              "    90% {\n",
              "      border-color: transparent;\n",
              "      border-bottom-color: var(--fill-color);\n",
              "    }\n",
              "  }\n",
              "</style>\n",
              "\n",
              "  <script>\n",
              "    async function quickchart(key) {\n",
              "      const quickchartButtonEl =\n",
              "        document.querySelector('#' + key + ' button');\n",
              "      quickchartButtonEl.disabled = true;  // To prevent multiple clicks.\n",
              "      quickchartButtonEl.classList.add('colab-df-spinner');\n",
              "      try {\n",
              "        const charts = await google.colab.kernel.invokeFunction(\n",
              "            'suggestCharts', [key], {});\n",
              "      } catch (error) {\n",
              "        console.error('Error during call to suggestCharts:', error);\n",
              "      }\n",
              "      quickchartButtonEl.classList.remove('colab-df-spinner');\n",
              "      quickchartButtonEl.classList.add('colab-df-quickchart-complete');\n",
              "    }\n",
              "    (() => {\n",
              "      let quickchartButtonEl =\n",
              "        document.querySelector('#df-d6587524-da68-4ae7-bb67-e533e612896f button');\n",
              "      quickchartButtonEl.style.display =\n",
              "        google.colab.kernel.accessAllowed ? 'block' : 'none';\n",
              "    })();\n",
              "  </script>\n",
              "</div>\n",
              "\n",
              "    </div>\n",
              "  </div>\n"
            ],
            "application/vnd.google.colaboratory.intrinsic+json": {
              "type": "dataframe",
              "variable_name": "df",
              "summary": "{\n  \"name\": \"df\",\n  \"rows\": 2328,\n  \"fields\": [\n    {\n      \"column\": \"Date\",\n      \"properties\": {\n        \"dtype\": \"date\",\n        \"min\": \"2017-11-09 00:00:00\",\n        \"max\": \"2024-03-24 00:00:00\",\n        \"num_unique_values\": 2328,\n        \"samples\": [\n          \"2022-08-12 00:00:00\",\n          \"2019-12-04 00:00:00\",\n          \"2022-06-06 00:00:00\"\n        ],\n        \"semantic_type\": \"\",\n        \"description\": \"\"\n      }\n    },\n    {\n      \"column\": \"Open\",\n      \"properties\": {\n        \"dtype\": \"number\",\n        \"std\": 1143.71277130678,\n        \"min\": 84.279694,\n        \"max\": 4810.071289,\n        \"num_unique_values\": 2327,\n        \"samples\": [\n          1880.89917,\n          146.686493,\n          1805.635986\n        ],\n        \"semantic_type\": \"\",\n        \"description\": \"\"\n      }\n    },\n    {\n      \"column\": \"High\",\n      \"properties\": {\n        \"dtype\": \"number\",\n        \"std\": 1176.365775334687,\n        \"min\": 85.342743,\n        \"max\": 4891.70459,\n        \"num_unique_values\": 2327,\n        \"samples\": [\n          1927.939209,\n          150.680817,\n          1825.859619\n        ],\n        \"semantic_type\": \"\",\n        \"description\": \"\"\n      }\n    },\n    {\n      \"column\": \"Low\",\n      \"properties\": {\n        \"dtype\": \"number\",\n        \"std\": 1107.03910284034,\n        \"min\": 82.829887,\n        \"max\": 4718.039063,\n        \"num_unique_values\": 2327,\n        \"samples\": [\n          1851.828369,\n          145.000885,\n          1777.133301\n        ],\n        \"semantic_type\": \"\",\n        \"description\": \"\"\n      }\n    },\n    {\n      \"column\": \"Close\",\n      \"properties\": {\n        \"dtype\": \"number\",\n        \"std\": 1144.0232324242538,\n        \"min\": 84.308296,\n        \"max\": 4812.087402,\n        \"num_unique_values\": 2328,\n        \"samples\": [\n          1957.24646,\n          146.747742,\n          1859.289673\n        ],\n        \"semantic_type\": \"\",\n        \"description\": \"\"\n      }\n    },\n    {\n      \"column\": \"Adj Close\",\n      \"properties\": {\n        \"dtype\": \"number\",\n        \"std\": 1144.0232324242538,\n        \"min\": 84.308296,\n        \"max\": 4812.087402,\n        \"num_unique_values\": 2328,\n        \"samples\": [\n          1957.24646,\n          146.747742,\n          1859.289673\n        ],\n        \"semantic_type\": \"\",\n        \"description\": \"\"\n      }\n    },\n    {\n      \"column\": \"Volume\",\n      \"properties\": {\n        \"dtype\": \"number\",\n        \"std\": 10131554137,\n        \"min\": 621732992,\n        \"max\": 84482912776,\n        \"num_unique_values\": 2328,\n        \"samples\": [\n          17168141904,\n          7865937094,\n          16518471852\n        ],\n        \"semantic_type\": \"\",\n        \"description\": \"\"\n      }\n    }\n  ]\n}"
            }
          },
          "metadata": {},
          "execution_count": 3
        }
      ]
    },
    {
      "cell_type": "code",
      "source": [
        "df.info()"
      ],
      "metadata": {
        "colab": {
          "base_uri": "https://localhost:8080/"
        },
        "id": "8pZ58tsLUquG",
        "outputId": "fe5621d1-162b-4971-9bda-5dd78477fca4"
      },
      "execution_count": 4,
      "outputs": [
        {
          "output_type": "stream",
          "name": "stdout",
          "text": [
            "<class 'pandas.core.frame.DataFrame'>\n",
            "DatetimeIndex: 2328 entries, 2017-11-09 to 2024-03-24\n",
            "Data columns (total 6 columns):\n",
            " #   Column     Non-Null Count  Dtype  \n",
            "---  ------     --------------  -----  \n",
            " 0   Open       2328 non-null   float64\n",
            " 1   High       2328 non-null   float64\n",
            " 2   Low        2328 non-null   float64\n",
            " 3   Close      2328 non-null   float64\n",
            " 4   Adj Close  2328 non-null   float64\n",
            " 5   Volume     2328 non-null   int64  \n",
            "dtypes: float64(5), int64(1)\n",
            "memory usage: 127.3 KB\n"
          ]
        }
      ]
    },
    {
      "cell_type": "code",
      "source": [
        "df = df.astype({\"Close\":'float64'})"
      ],
      "metadata": {
        "id": "atCW4SNKYDgs"
      },
      "execution_count": 5,
      "outputs": []
    },
    {
      "cell_type": "code",
      "source": [
        "len(df)"
      ],
      "metadata": {
        "colab": {
          "base_uri": "https://localhost:8080/"
        },
        "id": "TjcRIwriUzfd",
        "outputId": "767461da-53f0-4673-97c5-1dc58ad1e15f"
      },
      "execution_count": 6,
      "outputs": [
        {
          "output_type": "execute_result",
          "data": {
            "text/plain": [
              "2328"
            ]
          },
          "metadata": {},
          "execution_count": 6
        }
      ]
    },
    {
      "cell_type": "code",
      "source": [
        "# Only want closing price for each day\n",
        "ethereum_prices = pd.DataFrame(df[\"Close\"]).rename(columns={\"Close\": \"Price\"})\n",
        "ethereum_prices.head()"
      ],
      "metadata": {
        "colab": {
          "base_uri": "https://localhost:8080/",
          "height": 237
        },
        "id": "QakWlwVJU3_W",
        "outputId": "12493bde-ebf7-449c-cf29-c1066d87326e"
      },
      "execution_count": 7,
      "outputs": [
        {
          "output_type": "execute_result",
          "data": {
            "text/plain": [
              "                 Price\n",
              "Date                  \n",
              "2017-11-09  320.884003\n",
              "2017-11-10  299.252991\n",
              "2017-11-11  314.681000\n",
              "2017-11-12  307.907990\n",
              "2017-11-13  316.716003"
            ],
            "text/html": [
              "\n",
              "  <div id=\"df-ffcb1904-4f47-41bf-b9db-984201a3e155\" class=\"colab-df-container\">\n",
              "    <div>\n",
              "<style scoped>\n",
              "    .dataframe tbody tr th:only-of-type {\n",
              "        vertical-align: middle;\n",
              "    }\n",
              "\n",
              "    .dataframe tbody tr th {\n",
              "        vertical-align: top;\n",
              "    }\n",
              "\n",
              "    .dataframe thead th {\n",
              "        text-align: right;\n",
              "    }\n",
              "</style>\n",
              "<table border=\"1\" class=\"dataframe\">\n",
              "  <thead>\n",
              "    <tr style=\"text-align: right;\">\n",
              "      <th></th>\n",
              "      <th>Price</th>\n",
              "    </tr>\n",
              "    <tr>\n",
              "      <th>Date</th>\n",
              "      <th></th>\n",
              "    </tr>\n",
              "  </thead>\n",
              "  <tbody>\n",
              "    <tr>\n",
              "      <th>2017-11-09</th>\n",
              "      <td>320.884003</td>\n",
              "    </tr>\n",
              "    <tr>\n",
              "      <th>2017-11-10</th>\n",
              "      <td>299.252991</td>\n",
              "    </tr>\n",
              "    <tr>\n",
              "      <th>2017-11-11</th>\n",
              "      <td>314.681000</td>\n",
              "    </tr>\n",
              "    <tr>\n",
              "      <th>2017-11-12</th>\n",
              "      <td>307.907990</td>\n",
              "    </tr>\n",
              "    <tr>\n",
              "      <th>2017-11-13</th>\n",
              "      <td>316.716003</td>\n",
              "    </tr>\n",
              "  </tbody>\n",
              "</table>\n",
              "</div>\n",
              "    <div class=\"colab-df-buttons\">\n",
              "\n",
              "  <div class=\"colab-df-container\">\n",
              "    <button class=\"colab-df-convert\" onclick=\"convertToInteractive('df-ffcb1904-4f47-41bf-b9db-984201a3e155')\"\n",
              "            title=\"Convert this dataframe to an interactive table.\"\n",
              "            style=\"display:none;\">\n",
              "\n",
              "  <svg xmlns=\"http://www.w3.org/2000/svg\" height=\"24px\" viewBox=\"0 -960 960 960\">\n",
              "    <path d=\"M120-120v-720h720v720H120Zm60-500h600v-160H180v160Zm220 220h160v-160H400v160Zm0 220h160v-160H400v160ZM180-400h160v-160H180v160Zm440 0h160v-160H620v160ZM180-180h160v-160H180v160Zm440 0h160v-160H620v160Z\"/>\n",
              "  </svg>\n",
              "    </button>\n",
              "\n",
              "  <style>\n",
              "    .colab-df-container {\n",
              "      display:flex;\n",
              "      gap: 12px;\n",
              "    }\n",
              "\n",
              "    .colab-df-convert {\n",
              "      background-color: #E8F0FE;\n",
              "      border: none;\n",
              "      border-radius: 50%;\n",
              "      cursor: pointer;\n",
              "      display: none;\n",
              "      fill: #1967D2;\n",
              "      height: 32px;\n",
              "      padding: 0 0 0 0;\n",
              "      width: 32px;\n",
              "    }\n",
              "\n",
              "    .colab-df-convert:hover {\n",
              "      background-color: #E2EBFA;\n",
              "      box-shadow: 0px 1px 2px rgba(60, 64, 67, 0.3), 0px 1px 3px 1px rgba(60, 64, 67, 0.15);\n",
              "      fill: #174EA6;\n",
              "    }\n",
              "\n",
              "    .colab-df-buttons div {\n",
              "      margin-bottom: 4px;\n",
              "    }\n",
              "\n",
              "    [theme=dark] .colab-df-convert {\n",
              "      background-color: #3B4455;\n",
              "      fill: #D2E3FC;\n",
              "    }\n",
              "\n",
              "    [theme=dark] .colab-df-convert:hover {\n",
              "      background-color: #434B5C;\n",
              "      box-shadow: 0px 1px 3px 1px rgba(0, 0, 0, 0.15);\n",
              "      filter: drop-shadow(0px 1px 2px rgba(0, 0, 0, 0.3));\n",
              "      fill: #FFFFFF;\n",
              "    }\n",
              "  </style>\n",
              "\n",
              "    <script>\n",
              "      const buttonEl =\n",
              "        document.querySelector('#df-ffcb1904-4f47-41bf-b9db-984201a3e155 button.colab-df-convert');\n",
              "      buttonEl.style.display =\n",
              "        google.colab.kernel.accessAllowed ? 'block' : 'none';\n",
              "\n",
              "      async function convertToInteractive(key) {\n",
              "        const element = document.querySelector('#df-ffcb1904-4f47-41bf-b9db-984201a3e155');\n",
              "        const dataTable =\n",
              "          await google.colab.kernel.invokeFunction('convertToInteractive',\n",
              "                                                    [key], {});\n",
              "        if (!dataTable) return;\n",
              "\n",
              "        const docLinkHtml = 'Like what you see? Visit the ' +\n",
              "          '<a target=\"_blank\" href=https://colab.research.google.com/notebooks/data_table.ipynb>data table notebook</a>'\n",
              "          + ' to learn more about interactive tables.';\n",
              "        element.innerHTML = '';\n",
              "        dataTable['output_type'] = 'display_data';\n",
              "        await google.colab.output.renderOutput(dataTable, element);\n",
              "        const docLink = document.createElement('div');\n",
              "        docLink.innerHTML = docLinkHtml;\n",
              "        element.appendChild(docLink);\n",
              "      }\n",
              "    </script>\n",
              "  </div>\n",
              "\n",
              "\n",
              "<div id=\"df-1fd58896-ddb0-4d3e-918a-6bda1fb7ba2f\">\n",
              "  <button class=\"colab-df-quickchart\" onclick=\"quickchart('df-1fd58896-ddb0-4d3e-918a-6bda1fb7ba2f')\"\n",
              "            title=\"Suggest charts\"\n",
              "            style=\"display:none;\">\n",
              "\n",
              "<svg xmlns=\"http://www.w3.org/2000/svg\" height=\"24px\"viewBox=\"0 0 24 24\"\n",
              "     width=\"24px\">\n",
              "    <g>\n",
              "        <path d=\"M19 3H5c-1.1 0-2 .9-2 2v14c0 1.1.9 2 2 2h14c1.1 0 2-.9 2-2V5c0-1.1-.9-2-2-2zM9 17H7v-7h2v7zm4 0h-2V7h2v10zm4 0h-2v-4h2v4z\"/>\n",
              "    </g>\n",
              "</svg>\n",
              "  </button>\n",
              "\n",
              "<style>\n",
              "  .colab-df-quickchart {\n",
              "      --bg-color: #E8F0FE;\n",
              "      --fill-color: #1967D2;\n",
              "      --hover-bg-color: #E2EBFA;\n",
              "      --hover-fill-color: #174EA6;\n",
              "      --disabled-fill-color: #AAA;\n",
              "      --disabled-bg-color: #DDD;\n",
              "  }\n",
              "\n",
              "  [theme=dark] .colab-df-quickchart {\n",
              "      --bg-color: #3B4455;\n",
              "      --fill-color: #D2E3FC;\n",
              "      --hover-bg-color: #434B5C;\n",
              "      --hover-fill-color: #FFFFFF;\n",
              "      --disabled-bg-color: #3B4455;\n",
              "      --disabled-fill-color: #666;\n",
              "  }\n",
              "\n",
              "  .colab-df-quickchart {\n",
              "    background-color: var(--bg-color);\n",
              "    border: none;\n",
              "    border-radius: 50%;\n",
              "    cursor: pointer;\n",
              "    display: none;\n",
              "    fill: var(--fill-color);\n",
              "    height: 32px;\n",
              "    padding: 0;\n",
              "    width: 32px;\n",
              "  }\n",
              "\n",
              "  .colab-df-quickchart:hover {\n",
              "    background-color: var(--hover-bg-color);\n",
              "    box-shadow: 0 1px 2px rgba(60, 64, 67, 0.3), 0 1px 3px 1px rgba(60, 64, 67, 0.15);\n",
              "    fill: var(--button-hover-fill-color);\n",
              "  }\n",
              "\n",
              "  .colab-df-quickchart-complete:disabled,\n",
              "  .colab-df-quickchart-complete:disabled:hover {\n",
              "    background-color: var(--disabled-bg-color);\n",
              "    fill: var(--disabled-fill-color);\n",
              "    box-shadow: none;\n",
              "  }\n",
              "\n",
              "  .colab-df-spinner {\n",
              "    border: 2px solid var(--fill-color);\n",
              "    border-color: transparent;\n",
              "    border-bottom-color: var(--fill-color);\n",
              "    animation:\n",
              "      spin 1s steps(1) infinite;\n",
              "  }\n",
              "\n",
              "  @keyframes spin {\n",
              "    0% {\n",
              "      border-color: transparent;\n",
              "      border-bottom-color: var(--fill-color);\n",
              "      border-left-color: var(--fill-color);\n",
              "    }\n",
              "    20% {\n",
              "      border-color: transparent;\n",
              "      border-left-color: var(--fill-color);\n",
              "      border-top-color: var(--fill-color);\n",
              "    }\n",
              "    30% {\n",
              "      border-color: transparent;\n",
              "      border-left-color: var(--fill-color);\n",
              "      border-top-color: var(--fill-color);\n",
              "      border-right-color: var(--fill-color);\n",
              "    }\n",
              "    40% {\n",
              "      border-color: transparent;\n",
              "      border-right-color: var(--fill-color);\n",
              "      border-top-color: var(--fill-color);\n",
              "    }\n",
              "    60% {\n",
              "      border-color: transparent;\n",
              "      border-right-color: var(--fill-color);\n",
              "    }\n",
              "    80% {\n",
              "      border-color: transparent;\n",
              "      border-right-color: var(--fill-color);\n",
              "      border-bottom-color: var(--fill-color);\n",
              "    }\n",
              "    90% {\n",
              "      border-color: transparent;\n",
              "      border-bottom-color: var(--fill-color);\n",
              "    }\n",
              "  }\n",
              "</style>\n",
              "\n",
              "  <script>\n",
              "    async function quickchart(key) {\n",
              "      const quickchartButtonEl =\n",
              "        document.querySelector('#' + key + ' button');\n",
              "      quickchartButtonEl.disabled = true;  // To prevent multiple clicks.\n",
              "      quickchartButtonEl.classList.add('colab-df-spinner');\n",
              "      try {\n",
              "        const charts = await google.colab.kernel.invokeFunction(\n",
              "            'suggestCharts', [key], {});\n",
              "      } catch (error) {\n",
              "        console.error('Error during call to suggestCharts:', error);\n",
              "      }\n",
              "      quickchartButtonEl.classList.remove('colab-df-spinner');\n",
              "      quickchartButtonEl.classList.add('colab-df-quickchart-complete');\n",
              "    }\n",
              "    (() => {\n",
              "      let quickchartButtonEl =\n",
              "        document.querySelector('#df-1fd58896-ddb0-4d3e-918a-6bda1fb7ba2f button');\n",
              "      quickchartButtonEl.style.display =\n",
              "        google.colab.kernel.accessAllowed ? 'block' : 'none';\n",
              "    })();\n",
              "  </script>\n",
              "</div>\n",
              "\n",
              "    </div>\n",
              "  </div>\n"
            ],
            "application/vnd.google.colaboratory.intrinsic+json": {
              "type": "dataframe",
              "variable_name": "ethereum_prices",
              "summary": "{\n  \"name\": \"ethereum_prices\",\n  \"rows\": 2328,\n  \"fields\": [\n    {\n      \"column\": \"Date\",\n      \"properties\": {\n        \"dtype\": \"date\",\n        \"min\": \"2017-11-09 00:00:00\",\n        \"max\": \"2024-03-24 00:00:00\",\n        \"num_unique_values\": 2328,\n        \"samples\": [\n          \"2022-08-12 00:00:00\",\n          \"2019-12-04 00:00:00\",\n          \"2022-06-06 00:00:00\"\n        ],\n        \"semantic_type\": \"\",\n        \"description\": \"\"\n      }\n    },\n    {\n      \"column\": \"Price\",\n      \"properties\": {\n        \"dtype\": \"number\",\n        \"std\": 1144.0232324242538,\n        \"min\": 84.308296,\n        \"max\": 4812.087402,\n        \"num_unique_values\": 2328,\n        \"samples\": [\n          1957.24646,\n          146.747742,\n          1859.289673\n        ],\n        \"semantic_type\": \"\",\n        \"description\": \"\"\n      }\n    }\n  ]\n}"
            }
          },
          "metadata": {},
          "execution_count": 7
        }
      ]
    },
    {
      "cell_type": "code",
      "source": [
        "import matplotlib.pyplot as plt\n",
        "ethereum_prices.plot(figsize = (10,7))\n",
        "plt.ylabel(\"Ethereum Price\")\n",
        "plt.title(\"Price of Ethereum from 9 Nov 2017 to 25 March 2024\", fontsize = 16)\n",
        "plt.legend(fontsize = 14);\n"
      ],
      "metadata": {
        "colab": {
          "base_uri": "https://localhost:8080/",
          "height": 643
        },
        "id": "myBMqgxVVs5i",
        "outputId": "2f8547ff-51ed-4965-8cba-7aa5564f0e03"
      },
      "execution_count": 8,
      "outputs": [
        {
          "output_type": "display_data",
          "data": {
            "text/plain": [
              "<Figure size 1000x700 with 1 Axes>"
            ],
            "image/png": "[encoded data removed]"
          },
          "metadata": {}
        }
      ]
    },
    {
      "cell_type": "markdown",
      "source": [
        "### Importing Time Series Data with Python's CSV Module"
      ],
      "metadata": {
        "id": "073_4Ze9aa5e"
      }
    },
    {
      "cell_type": "code",
      "source": [
        "import csv\n",
        "from datetime import datetime\n",
        "\n",
        "timesteps = []\n",
        "eth_price = []\n",
        "with open(\"/content/ETH-USD.csv\", \"r\") as f:\n",
        "  csv_reader = csv.reader(f, delimiter=\",\")\n",
        "  next(csv_reader)\n",
        "  for line in csv_reader:\n",
        "    timesteps.append(datetime.strptime(line[0], \"%Y-%m-%d\"))\n",
        "    eth_price.append(line[4])\n",
        "\n",
        "# View first 10 of each\n",
        "timesteps[:10], eth_price[:10]"
      ],
      "metadata": {
        "colab": {
          "base_uri": "https://localhost:8080/"
        },
        "id": "i2kHP0nKaJhw",
        "outputId": "eaebc1e2-3a07-4df2-ddc0-7c4a89352875"
      },
      "execution_count": 9,
      "outputs": [
        {
          "output_type": "execute_result",
          "data": {
            "text/plain": [
              "([datetime.datetime(2017, 11, 9, 0, 0),\n",
              "  datetime.datetime(2017, 11, 10, 0, 0),\n",
              "  datetime.datetime(2017, 11, 11, 0, 0),\n",
              "  datetime.datetime(2017, 11, 12, 0, 0),\n",
              "  datetime.datetime(2017, 11, 13, 0, 0),\n",
              "  datetime.datetime(2017, 11, 14, 0, 0),\n",
              "  datetime.datetime(2017, 11, 15, 0, 0),\n",
              "  datetime.datetime(2017, 11, 16, 0, 0),\n",
              "  datetime.datetime(2017, 11, 17, 0, 0),\n",
              "  datetime.datetime(2017, 11, 18, 0, 0)],\n",
              " ['320.884003',\n",
              "  '299.252991',\n",
              "  '314.681000',\n",
              "  '307.907990',\n",
              "  '316.716003',\n",
              "  '337.631012',\n",
              "  '333.356995',\n",
              "  '330.924011',\n",
              "  '332.394012',\n",
              "  '347.612000'])"
            ]
          },
          "metadata": {},
          "execution_count": 9
        }
      ]
    },
    {
      "cell_type": "code",
      "source": [
        "for i in range(len(eth_price)):\n",
        "    if eth_price[i] != 'null':\n",
        "        eth_price[i] = float(eth_price[i])\n",
        "    else:\n",
        "        eth_price[i] = None"
      ],
      "metadata": {
        "id": "8_9ffqbZXdV4"
      },
      "execution_count": 10,
      "outputs": []
    },
    {
      "cell_type": "code",
      "source": [
        "# Plot from CSV\n",
        "import matplotlib.pyplot as plt\n",
        "import numpy as np\n",
        "plt.figure(figsize=(10, 7))\n",
        "plt.plot(timesteps, eth_price)\n",
        "plt.title(\"Price of Bitcoin from 1 Oct 2013 to 18 May 2021\", fontsize=16)\n",
        "plt.xlabel(\"Date\")\n",
        "plt.ylabel(\"ETH Price\");"
      ],
      "metadata": {
        "colab": {
          "base_uri": "https://localhost:8080/",
          "height": 643
        },
        "id": "9q3O4p2cbSaF",
        "outputId": "8b7d2eb8-4ab1-4976-d69f-21108a0648ba"
      },
      "execution_count": 11,
      "outputs": [
        {
          "output_type": "display_data",
          "data": {
            "text/plain": [
              "<Figure size 1000x700 with 1 Axes>"
            ],
            "image/png": "[encoded data removed]"
          },
          "metadata": {}
        }
      ]
    },
    {
      "cell_type": "markdown",
      "source": [
        "### Creating Train and Test Set (for time series data)"
      ],
      "metadata": {
        "id": "s9VtDxfXZ-qw"
      }
    },
    {
      "cell_type": "code",
      "source": [
        "timesteps = ethereum_prices.index.to_numpy()\n",
        "prices = ethereum_prices[\"Price\"].to_numpy()\n",
        "\n",
        "timesteps[:10], prices[:10]"
      ],
      "metadata": {
        "colab": {
          "base_uri": "https://localhost:8080/"
        },
        "id": "W2Hap85daiM8",
        "outputId": "6f5d9b1b-bed8-41c6-e5c4-4e2003e93752"
      },
      "execution_count": 12,
      "outputs": [
        {
          "output_type": "execute_result",
          "data": {
            "text/plain": [
              "(array(['2017-11-09T00:00:00.000000000', '2017-11-10T00:00:00.000000000',\n",
              "        '2017-11-11T00:00:00.000000000', '2017-11-12T00:00:00.000000000',\n",
              "        '2017-11-13T00:00:00.000000000', '2017-11-14T00:00:00.000000000',\n",
              "        '2017-11-15T00:00:00.000000000', '2017-11-16T00:00:00.000000000',\n",
              "        '2017-11-17T00:00:00.000000000', '2017-11-18T00:00:00.000000000'],\n",
              "       dtype='datetime64[ns]'),\n",
              " array([320.884003, 299.252991, 314.681   , 307.90799 , 316.716003,\n",
              "        337.631012, 333.356995, 330.924011, 332.394012, 347.612   ]))"
            ]
          },
          "metadata": {},
          "execution_count": 12
        }
      ]
    },
    {
      "cell_type": "code",
      "source": [
        "split_size = int(0.8 * len(prices))\n",
        "\n",
        "X_train, y_train = timesteps[:split_size], prices[:split_size]\n",
        "\n",
        "X_test, y_test = timesteps[split_size:], prices[split_size:]\n",
        "\n",
        "len(X_train), len(X_test), len(y_train), len(y_test)"
      ],
      "metadata": {
        "id": "hZRkz_FidSQg",
        "colab": {
          "base_uri": "https://localhost:8080/"
        },
        "outputId": "4497e7e5-bada-4aec-9f23-931ccf67a1ae"
      },
      "execution_count": 13,
      "outputs": [
        {
          "output_type": "execute_result",
          "data": {
            "text/plain": [
              "(1862, 466, 1862, 466)"
            ]
          },
          "metadata": {},
          "execution_count": 13
        }
      ]
    },
    {
      "cell_type": "code",
      "source": [
        "plt.figure(figsize= (10, 7))\n",
        "plt.scatter(X_train, y_train, s=5, label= \"Train data\")\n",
        "plt.scatter(X_test, y_test, s=5, label= \"Test data\")\n",
        "plt.xlabel(\"Data\")\n",
        "plt.ylabel(\"Ethereum Price\")\n",
        "plt.legend(fontsize=14)\n",
        "plt.show();"
      ],
      "metadata": {
        "colab": {
          "base_uri": "https://localhost:8080/",
          "height": 619
        },
        "id": "sZ0YaNDzbH_L",
        "outputId": "7ad1e08c-6e73-4896-839e-602bacf1f1cc"
      },
      "execution_count": 14,
      "outputs": [
        {
          "output_type": "display_data",
          "data": {
            "text/plain": [
              "<Figure size 1000x700 with 1 Axes>"
            ],
            "image/png": "[encoded data removed]"
          },
          "metadata": {}
        }
      ]
    },
    {
      "cell_type": "markdown",
      "source": [
        "**Creating a plotting Function**"
      ],
      "metadata": {
        "id": "pV1o7Mk9fx6H"
      }
    },
    {
      "cell_type": "code",
      "source": [
        "def plot_time_series(timesteps, values, format='.',start=0, end= None, label= None):\n",
        "  plt.plot(timesteps[start:end], values[start:end], format, label= label)\n",
        "  plt.xlabel(\"Time\")\n",
        "  plt.ylabel(\"Ethereum Price\")\n",
        "  if label:\n",
        "    plt.legend(fontsize = 14)\n",
        "  plt.grid(True)"
      ],
      "metadata": {
        "id": "BYArE4H1fxB1"
      },
      "execution_count": 15,
      "outputs": []
    },
    {
      "cell_type": "code",
      "source": [
        "plt.figure(figsize= (10, 7))\n",
        "plot_time_series(timesteps= X_train, values= y_train, label= \"Train data\")\n",
        "plot_time_series(timesteps= X_test, values= y_test, label= \"Test data\")"
      ],
      "metadata": {
        "colab": {
          "base_uri": "https://localhost:8080/",
          "height": 619
        },
        "id": "lGxGWfA-bOGe",
        "outputId": "261e4655-3123-4298-b35a-8f788ac4eb89"
      },
      "execution_count": 16,
      "outputs": [
        {
          "output_type": "display_data",
          "data": {
            "text/plain": [
              "<Figure size 1000x700 with 1 Axes>"
            ],
            "image/png": "[encoded data removed]"
          },
          "metadata": {}
        }
      ]
    },
    {
      "cell_type": "markdown",
      "source": [
        "## Modelling Experiment"
      ],
      "metadata": {
        "id": "wGaaK7lLg0cD"
      }
    },
    {
      "cell_type": "markdown",
      "source": [
        "### Naive Model (baseline)\n",
        "\n"
      ],
      "metadata": {
        "id": "QX2JrDFBg5Xj"
      }
    },
    {
      "cell_type": "code",
      "source": [
        "naive_forecast = y_test[:-1]\n",
        "naive_forecast[:10], naive_forecast[-10:]"
      ],
      "metadata": {
        "colab": {
          "base_uri": "https://localhost:8080/"
        },
        "id": "i0pEH7gygwIl",
        "outputId": "1b883341-e1da-4982-ac30-684bae1f9aa4"
      },
      "execution_count": 17,
      "outputs": [
        {
          "output_type": "execute_result",
          "data": {
            "text/plain": [
              "(array([1266.353882, 1168.259399, 1188.149536, 1184.71521 , 1167.609863,\n",
              "        1217.703613, 1213.599976, 1218.182129, 1220.159424, 1221.14856 ]),\n",
              " array([3883.140381, 3735.220215, 3522.860107, 3642.413086, 3517.985107,\n",
              "        3157.618164, 3513.393066, 3492.991211, 3333.687988, 3336.593994]))"
            ]
          },
          "metadata": {},
          "execution_count": 17
        }
      ]
    },
    {
      "cell_type": "code",
      "source": [
        "plt.figure(figsize= (10, 7))\n",
        "plot_time_series(timesteps= X_train, values= y_train, label= \"Train data\")\n",
        "plot_time_series(timesteps= X_test, values= y_test, label= \"Test data\")\n",
        "plot_time_series(timesteps= X_test[1:], values= naive_forecast, format= \"-\", label= \"Naive forecast\");"
      ],
      "metadata": {
        "colab": {
          "base_uri": "https://localhost:8080/",
          "height": 619
        },
        "id": "qDDI09YyhPns",
        "outputId": "ba6a266d-a01e-4e4c-afbe-cf2579b32d95"
      },
      "execution_count": 18,
      "outputs": [
        {
          "output_type": "display_data",
          "data": {
            "text/plain": [
              "<Figure size 1000x700 with 1 Axes>"
            ],
            "image/png": "[encoded data removed]"
          },
          "metadata": {}
        }
      ]
    },
    {
      "cell_type": "code",
      "source": [
        "plt.figure(figsize=(10, 7))\n",
        "offset = 300 # offset the values by 300 timesteps\n",
        "plot_time_series(timesteps=X_test, values=y_test, start=offset, label=\"Test data\")\n",
        "plot_time_series(timesteps=X_test[1:], values=naive_forecast, format=\"-\", start=offset, label=\"Naive forecast\");"
      ],
      "metadata": {
        "colab": {
          "base_uri": "https://localhost:8080/",
          "height": 619
        },
        "id": "eqADwSsxhv5t",
        "outputId": "6b583422-8e87-4447-a842-a3e6e91004fc"
      },
      "execution_count": 19,
      "outputs": [
        {
          "output_type": "display_data",
          "data": {
            "text/plain": [
              "<Figure size 1000x700 with 1 Axes>"
            ],
            "image/png": "[encoded data removed]"
          },
          "metadata": {}
        }
      ]
    },
    {
      "cell_type": "markdown",
      "source": [
        "### Evaluating a time series model\n",
        "\n",
        "**Scale-dependent errors**\n",
        "- MAE (mean absolute error)\n",
        "- RMSE (root mean square error)\n",
        "\n",
        "**Percentage errors**\n",
        "- MAPE (mean absolute percentage error)\n",
        "- sMAPE (symmetric mean absolute error)\n",
        "\n",
        "**Scaled Errors**\n",
        "- MASE (mean absolute scaled error)"
      ],
      "metadata": {
        "id": "NosLtbMzh96T"
      }
    },
    {
      "cell_type": "code",
      "source": [
        "import tensorflow as tf"
      ],
      "metadata": {
        "id": "vSabc3Nyh4Vd"
      },
      "execution_count": 20,
      "outputs": []
    },
    {
      "cell_type": "code",
      "source": [
        "def mean_absolute_scaled_error(y_true, y_pred):\n",
        "  mae = tf.reduce_mean(tf.abs(y_true - y_pred))\n",
        "  mae_naive_no_season = tf.reduce_mean(tf.abs(y_true[1:] - y_true[:-1]))\n",
        "  return mae / mae_naive_no_season"
      ],
      "metadata": {
        "id": "GaOQeYb8iuvn"
      },
      "execution_count": 21,
      "outputs": []
    },
    {
      "cell_type": "code",
      "source": [
        "def evaluate_preds(y_true, y_pred):\n",
        "  # float32 (for metric calculations)\n",
        "  y_true = tf.cast(y_true, dtype=tf.float32)\n",
        "  y_pred = tf.cast(y_pred, dtype=tf.float32)\n",
        "\n",
        "  # Calculate various metrics\n",
        "  mae = tf.keras.metrics.mean_absolute_error(y_true, y_pred)\n",
        "  mse = tf.keras.metrics.mean_squared_error(y_true, y_pred)\n",
        "  rmse = tf.sqrt(mse)\n",
        "  mape = tf.keras.metrics.mean_absolute_percentage_error(y_true, y_pred)\n",
        "  mase = mean_absolute_scaled_error(y_true, y_pred)\n",
        "\n",
        "  return {\"mae\": mae.numpy(),\n",
        "          \"mse\": mse.numpy(),\n",
        "          \"rmse\": rmse.numpy(),\n",
        "          \"mape\": mape.numpy(),\n",
        "          \"mase\": mase.numpy()}\n"
      ],
      "metadata": {
        "id": "gv-yFpMBl_Oz"
      },
      "execution_count": 22,
      "outputs": []
    },
    {
      "cell_type": "code",
      "source": [
        "naive_results = evaluate_preds(y_true= y_test[1:],\n",
        "                               y_pred = naive_forecast)\n",
        "naive_results"
      ],
      "metadata": {
        "colab": {
          "base_uri": "https://localhost:8080/"
        },
        "id": "Jtsw5MEpm526",
        "outputId": "bf415126-1a44-458d-e82a-c1dc015b9cec"
      },
      "execution_count": 23,
      "outputs": [
        {
          "output_type": "execute_result",
          "data": {
            "text/plain": [
              "{'mae': 37.67836,\n",
              " 'mse': 3442.704,\n",
              " 'rmse': 58.67456,\n",
              " 'mape': 1.8211035,\n",
              " 'mase': 1.0034677}"
            ]
          },
          "metadata": {},
          "execution_count": 23
        }
      ]
    },
    {
      "cell_type": "markdown",
      "source": [
        "### Windowing Dataset"
      ],
      "metadata": {
        "id": "4iVtfvxPD0hm"
      }
    },
    {
      "cell_type": "code",
      "source": [
        "HORIZON = 1\n",
        "WINDOW_SIZE = 7"
      ],
      "metadata": {
        "id": "mNbCHMocnW3K"
      },
      "execution_count": 24,
      "outputs": []
    },
    {
      "cell_type": "code",
      "source": [
        "def get_labelled_windows(x, horizon=1):\n",
        "  \"\"\"\n",
        "  Creates labels for windowed dataset.\n",
        "\n",
        "  E.g. if horizon=1 (default)\n",
        "  Input: [1, 2, 3, 4, 5, 6] -> Output: ([1, 2, 3, 4, 5], [6])\n",
        "  \"\"\"\n",
        "  return x[:, :-horizon], x[:, -horizon:]"
      ],
      "metadata": {
        "id": "NKNn7DxtD_4n"
      },
      "execution_count": 25,
      "outputs": []
    },
    {
      "cell_type": "code",
      "source": [
        "# Test out the window labelling function\n",
        "test_window, test_label = get_labelled_windows(tf.expand_dims(tf.range(8)+1, axis=0), horizon=HORIZON)\n",
        "print(f\"Window: {tf.squeeze(test_window).numpy()} -> Label: {tf.squeeze(test_label).numpy()}\")"
      ],
      "metadata": {
        "colab": {
          "base_uri": "https://localhost:8080/"
        },
        "id": "RzbrpHTXEI_W",
        "outputId": "bc125651-5392-4bb8-83c2-9b40e24fd618"
      },
      "execution_count": 26,
      "outputs": [
        {
          "output_type": "stream",
          "name": "stdout",
          "text": [
            "Window: [1 2 3 4 5 6 7] -> Label: 8\n"
          ]
        }
      ]
    },
    {
      "cell_type": "code",
      "source": [
        "# Create function to view NumPy arrays as windows\n",
        "def make_windows(x, window_size=7, horizon=1):\n",
        "  window_step = np.expand_dims(np.arange(window_size+horizon), axis=0)\n",
        "\n",
        "  window_indexes = window_step + np.expand_dims(np.arange(len(x)-(window_size+horizon-1)), axis=0).T\n",
        "\n",
        "  windowed_array = x[window_indexes]\n",
        "\n",
        "  windows, labels = get_labelled_windows(windowed_array, horizon=horizon)\n",
        "\n",
        "  return windows, labels"
      ],
      "metadata": {
        "id": "qYTsTSDuEJjZ"
      },
      "execution_count": 27,
      "outputs": []
    },
    {
      "cell_type": "code",
      "source": [
        "full_windows, full_labels = make_windows(prices, window_size=WINDOW_SIZE, horizon=HORIZON)\n",
        "len(full_windows), len(full_labels)"
      ],
      "metadata": {
        "colab": {
          "base_uri": "https://localhost:8080/"
        },
        "id": "M0soPVniEbQ8",
        "outputId": "15691a24-de94-4485-d825-a068355f2196"
      },
      "execution_count": 28,
      "outputs": [
        {
          "output_type": "execute_result",
          "data": {
            "text/plain": [
              "(2321, 2321)"
            ]
          },
          "metadata": {},
          "execution_count": 28
        }
      ]
    },
    {
      "cell_type": "code",
      "source": [
        "for i in range(3):\n",
        "  print(f\"Window: {full_windows[i]} -> Label: {full_labels[i]}\")"
      ],
      "metadata": {
        "colab": {
          "base_uri": "https://localhost:8080/"
        },
        "id": "xdYjJVnCEeA-",
        "outputId": "20a98e88-84c8-4b37-d286-0b81ff6a594e"
      },
      "execution_count": 29,
      "outputs": [
        {
          "output_type": "stream",
          "name": "stdout",
          "text": [
            "Window: [320.884003 299.252991 314.681    307.90799  316.716003 337.631012\n",
            " 333.356995] -> Label: [330.924011]\n",
            "Window: [299.252991 314.681    307.90799  316.716003 337.631012 333.356995\n",
            " 330.924011] -> Label: [332.394012]\n",
            "Window: [314.681    307.90799  316.716003 337.631012 333.356995 330.924011\n",
            " 332.394012] -> Label: [347.612]\n"
          ]
        }
      ]
    },
    {
      "cell_type": "code",
      "source": [
        "# View the last 3 windows/labels\n",
        "for i in range(3):\n",
        "  print(f\"Window: {full_windows[i-3]} -> Label: {full_labels[i-3]}\")"
      ],
      "metadata": {
        "colab": {
          "base_uri": "https://localhost:8080/"
        },
        "id": "f4UNxr3_Ehym",
        "outputId": "69bdc942-0abf-4377-8595-3060dd859bbf"
      },
      "execution_count": 30,
      "outputs": [
        {
          "output_type": "stream",
          "name": "stdout",
          "text": [
            "Window: [3735.220215 3522.860107 3642.413086 3517.985107 3157.618164 3513.393066\n",
            " 3492.991211] -> Label: [3333.687988]\n",
            "Window: [3522.860107 3642.413086 3517.985107 3157.618164 3513.393066 3492.991211\n",
            " 3333.687988] -> Label: [3336.593994]\n",
            "Window: [3642.413086 3517.985107 3157.618164 3513.393066 3492.991211 3333.687988\n",
            " 3336.593994] -> Label: [3454.636475]\n"
          ]
        }
      ]
    },
    {
      "cell_type": "markdown",
      "source": [
        "### Turning Windows into Training and Test Sets"
      ],
      "metadata": {
        "id": "XsZkP7pmGNxN"
      }
    },
    {
      "cell_type": "code",
      "source": [
        "def make_train_test_splits(windows, labels, test_split=0.2):\n",
        "  split_size = int(len(windows) * (1-test_split))\n",
        "  train_windows = windows[:split_size]\n",
        "  train_labels = labels[:split_size]\n",
        "  test_windows = windows[split_size:]\n",
        "  test_labels = labels[split_size:]\n",
        "  return train_windows, test_windows, train_labels, test_labels"
      ],
      "metadata": {
        "id": "w1zBsscLGUZK"
      },
      "execution_count": 31,
      "outputs": []
    },
    {
      "cell_type": "code",
      "source": [
        "train_windows, test_windows, train_labels, test_labels = make_train_test_splits(full_windows, full_labels)\n",
        "len(train_windows), len(test_windows), len(train_labels), len(test_labels)"
      ],
      "metadata": {
        "colab": {
          "base_uri": "https://localhost:8080/"
        },
        "id": "rhWURNkhGuMl",
        "outputId": "dc603eee-4971-42f7-9922-36365e392298"
      },
      "execution_count": 32,
      "outputs": [
        {
          "output_type": "execute_result",
          "data": {
            "text/plain": [
              "(1856, 465, 1856, 465)"
            ]
          },
          "metadata": {},
          "execution_count": 32
        }
      ]
    },
    {
      "cell_type": "code",
      "source": [
        "train_windows[:5], train_labels[:5]"
      ],
      "metadata": {
        "colab": {
          "base_uri": "https://localhost:8080/"
        },
        "id": "AG9kVK7aHZNO",
        "outputId": "848e99a7-cb77-4d88-add5-5f94588cf4e6"
      },
      "execution_count": 33,
      "outputs": [
        {
          "output_type": "execute_result",
          "data": {
            "text/plain": [
              "(array([[320.884003, 299.252991, 314.681   , 307.90799 , 316.716003,\n",
              "         337.631012, 333.356995],\n",
              "        [299.252991, 314.681   , 307.90799 , 316.716003, 337.631012,\n",
              "         333.356995, 330.924011],\n",
              "        [314.681   , 307.90799 , 316.716003, 337.631012, 333.356995,\n",
              "         330.924011, 332.394012],\n",
              "        [307.90799 , 316.716003, 337.631012, 333.356995, 330.924011,\n",
              "         332.394012, 347.612   ],\n",
              "        [316.716003, 337.631012, 333.356995, 330.924011, 332.394012,\n",
              "         347.612   , 354.385986]]),\n",
              " array([[330.924011],\n",
              "        [332.394012],\n",
              "        [347.612   ],\n",
              "        [354.385986],\n",
              "        [366.730011]]))"
            ]
          },
          "metadata": {},
          "execution_count": 33
        }
      ]
    },
    {
      "cell_type": "code",
      "source": [
        "# Check to see if same (accounting for horizon and window size)\n",
        "np.array_equal(np.squeeze(train_labels[:-HORIZON-1]), y_train[WINDOW_SIZE:])"
      ],
      "metadata": {
        "colab": {
          "base_uri": "https://localhost:8080/"
        },
        "id": "6SWwu5lbHaAY",
        "outputId": "4402ac2f-fc2a-4411-cd19-d31cd5367a29"
      },
      "execution_count": 34,
      "outputs": [
        {
          "output_type": "execute_result",
          "data": {
            "text/plain": [
              "False"
            ]
          },
          "metadata": {},
          "execution_count": 34
        }
      ]
    },
    {
      "cell_type": "markdown",
      "source": [
        "### Make a Modelling Checkpoint"
      ],
      "metadata": {
        "id": "kSXX4CjHIEfE"
      }
    },
    {
      "cell_type": "code",
      "source": [
        "import os\n",
        "\n",
        "def create_model_checkpoint(model_name, save_path=\"model_experiments\"):\n",
        "  return tf.keras.callbacks.ModelCheckpoint(filepath=os.path.join(save_path, model_name),\n",
        "                                            verbose=0,\n",
        "                                            save_best_only=True)"
      ],
      "metadata": {
        "id": "VQgGoaUfHd8X"
      },
      "execution_count": 35,
      "outputs": []
    },
    {
      "cell_type": "code",
      "source": [
        "import tensorflow as tf\n",
        "from tensorflow.keras import layers\n",
        "\n",
        "tf.random.set_seed(42)\n",
        "\n",
        "model_1 = tf.keras.Sequential([\n",
        "  layers.Dense(128, activation=\"relu\"),\n",
        "  layers.Dense(HORIZON, activation=\"linear\")\n",
        "], name=\"model_1_dense\")\n",
        "\n",
        "model_1.compile(loss=\"mae\",\n",
        "                optimizer=tf.keras.optimizers.Adam(),\n",
        "                metrics=[\"mae\"])\n",
        "\n",
        "model_1.fit(x=train_windows,\n",
        "            y=train_labels,\n",
        "            epochs=100,\n",
        "            verbose=1,\n",
        "            batch_size=128,\n",
        "            validation_data=(test_windows, test_labels),\n",
        "            callbacks=[create_model_checkpoint(model_name=model_1.name)])"
      ],
      "metadata": {
        "colab": {
          "base_uri": "https://localhost:8080/"
        },
        "id": "1P-k-VULIp68",
        "outputId": "862ff5b0-94c7-46b3-d928-d688b72f6710"
      },
      "execution_count": 36,
      "outputs": [
        {
          "output_type": "stream",
          "name": "stdout",
          "text": [
            "Epoch 1/100\n",
            "15/15 [==============================] - 2s 46ms/step - loss: 795.8201 - mae: 795.8201 - val_loss: 406.6513 - val_mae: 406.6513\n",
            "Epoch 2/100\n",
            "15/15 [==============================] - 0s 28ms/step - loss: 151.5315 - mae: 151.5315 - val_loss: 121.8079 - val_mae: 121.8079\n",
            "Epoch 3/100\n",
            "15/15 [==============================] - 0s 29ms/step - loss: 87.6474 - mae: 87.6474 - val_loss: 65.2663 - val_mae: 65.2663\n",
            "Epoch 4/100\n",
            "15/15 [==============================] - 0s 5ms/step - loss: 71.2415 - mae: 71.2415 - val_loss: 98.4335 - val_mae: 98.4335\n",
            "Epoch 5/100\n",
            "15/15 [==============================] - 0s 28ms/step - loss: 71.5300 - mae: 71.5300 - val_loss: 61.3937 - val_mae: 61.3937\n",
            "Epoch 6/100\n",
            "15/15 [==============================] - 0s 28ms/step - loss: 65.4953 - mae: 65.4953 - val_loss: 60.7681 - val_mae: 60.7681\n",
            "Epoch 7/100\n",
            "15/15 [==============================] - 0s 30ms/step - loss: 64.7019 - mae: 64.7019 - val_loss: 60.3850 - val_mae: 60.3850\n",
            "Epoch 8/100\n",
            "15/15 [==============================] - 0s 30ms/step - loss: 63.6000 - mae: 63.6000 - val_loss: 58.9640 - val_mae: 58.9640\n",
            "Epoch 9/100\n",
            "15/15 [==============================] - 0s 29ms/step - loss: 62.7383 - mae: 62.7383 - val_loss: 58.0986 - val_mae: 58.0986\n",
            "Epoch 10/100\n",
            "15/15 [==============================] - 0s 29ms/step - loss: 61.7318 - mae: 61.7318 - val_loss: 55.7939 - val_mae: 55.7939\n",
            "Epoch 11/100\n",
            "15/15 [==============================] - 0s 30ms/step - loss: 59.7301 - mae: 59.7301 - val_loss: 54.1827 - val_mae: 54.1827\n",
            "Epoch 12/100\n",
            "15/15 [==============================] - 0s 5ms/step - loss: 58.0660 - mae: 58.0660 - val_loss: 57.1865 - val_mae: 57.1865\n",
            "Epoch 13/100\n",
            "15/15 [==============================] - 0s 4ms/step - loss: 56.4934 - mae: 56.4934 - val_loss: 55.2603 - val_mae: 55.2603\n",
            "Epoch 14/100\n",
            "15/15 [==============================] - 0s 27ms/step - loss: 52.3068 - mae: 52.3068 - val_loss: 46.0003 - val_mae: 46.0003\n",
            "Epoch 15/100\n",
            "15/15 [==============================] - 0s 5ms/step - loss: 51.0946 - mae: 51.0946 - val_loss: 51.7298 - val_mae: 51.7298\n",
            "Epoch 16/100\n",
            "15/15 [==============================] - 0s 28ms/step - loss: 50.3274 - mae: 50.3274 - val_loss: 45.7043 - val_mae: 45.7043\n",
            "Epoch 17/100\n",
            "15/15 [==============================] - 0s 27ms/step - loss: 48.8702 - mae: 48.8702 - val_loss: 43.7519 - val_mae: 43.7519\n",
            "Epoch 18/100\n",
            "15/15 [==============================] - 0s 29ms/step - loss: 47.8905 - mae: 47.8905 - val_loss: 42.0917 - val_mae: 42.0917\n",
            "Epoch 19/100\n",
            "15/15 [==============================] - 0s 28ms/step - loss: 48.0564 - mae: 48.0564 - val_loss: 41.3389 - val_mae: 41.3389\n",
            "Epoch 20/100\n",
            "15/15 [==============================] - 0s 5ms/step - loss: 46.1566 - mae: 46.1566 - val_loss: 48.3959 - val_mae: 48.3959\n",
            "Epoch 21/100\n",
            "15/15 [==============================] - 0s 28ms/step - loss: 46.4869 - mae: 46.4869 - val_loss: 41.0013 - val_mae: 41.0013\n",
            "Epoch 22/100\n",
            "15/15 [==============================] - 0s 5ms/step - loss: 46.4292 - mae: 46.4292 - val_loss: 46.0892 - val_mae: 46.0892\n",
            "Epoch 23/100\n",
            "15/15 [==============================] - 0s 29ms/step - loss: 45.2337 - mae: 45.2337 - val_loss: 39.8755 - val_mae: 39.8755\n",
            "Epoch 24/100\n",
            "15/15 [==============================] - 1s 61ms/step - loss: 44.7488 - mae: 44.7488 - val_loss: 39.6134 - val_mae: 39.6134\n",
            "Epoch 25/100\n",
            "15/15 [==============================] - 1s 40ms/step - loss: 44.4571 - mae: 44.4571 - val_loss: 39.3983 - val_mae: 39.3983\n",
            "Epoch 26/100\n",
            "15/15 [==============================] - 0s 8ms/step - loss: 46.4718 - mae: 46.4718 - val_loss: 49.3309 - val_mae: 49.3309\n",
            "Epoch 27/100\n",
            "15/15 [==============================] - 1s 37ms/step - loss: 46.7484 - mae: 46.7484 - val_loss: 39.0690 - val_mae: 39.0690\n",
            "Epoch 28/100\n",
            "15/15 [==============================] - 0s 5ms/step - loss: 44.7827 - mae: 44.7827 - val_loss: 51.7547 - val_mae: 51.7547\n",
            "Epoch 29/100\n",
            "15/15 [==============================] - 0s 8ms/step - loss: 44.9472 - mae: 44.9472 - val_loss: 45.6764 - val_mae: 45.6764\n",
            "Epoch 30/100\n",
            "15/15 [==============================] - 0s 8ms/step - loss: 44.3052 - mae: 44.3052 - val_loss: 39.8244 - val_mae: 39.8244\n",
            "Epoch 31/100\n",
            "15/15 [==============================] - 0s 10ms/step - loss: 45.5843 - mae: 45.5843 - val_loss: 47.5071 - val_mae: 47.5071\n",
            "Epoch 32/100\n",
            "15/15 [==============================] - 0s 8ms/step - loss: 44.2873 - mae: 44.2873 - val_loss: 45.9734 - val_mae: 45.9734\n",
            "Epoch 33/100\n",
            "15/15 [==============================] - 0s 8ms/step - loss: 44.4479 - mae: 44.4479 - val_loss: 60.0207 - val_mae: 60.0207\n",
            "Epoch 34/100\n",
            "15/15 [==============================] - 0s 10ms/step - loss: 45.8303 - mae: 45.8303 - val_loss: 47.5405 - val_mae: 47.5405\n",
            "Epoch 35/100\n",
            "15/15 [==============================] - 0s 5ms/step - loss: 43.5797 - mae: 43.5797 - val_loss: 44.8904 - val_mae: 44.8904\n",
            "Epoch 36/100\n",
            "15/15 [==============================] - 0s 5ms/step - loss: 43.3443 - mae: 43.3443 - val_loss: 39.3794 - val_mae: 39.3794\n",
            "Epoch 37/100\n",
            "15/15 [==============================] - 0s 27ms/step - loss: 46.7513 - mae: 46.7513 - val_loss: 38.2788 - val_mae: 38.2788\n",
            "Epoch 38/100\n",
            "15/15 [==============================] - 0s 4ms/step - loss: 44.7885 - mae: 44.7885 - val_loss: 47.0632 - val_mae: 47.0632\n",
            "Epoch 39/100\n",
            "15/15 [==============================] - 0s 5ms/step - loss: 44.7210 - mae: 44.7210 - val_loss: 54.3727 - val_mae: 54.3727\n",
            "Epoch 40/100\n",
            "15/15 [==============================] - 0s 5ms/step - loss: 43.8447 - mae: 43.8447 - val_loss: 38.3487 - val_mae: 38.3487\n",
            "Epoch 41/100\n",
            "15/15 [==============================] - 0s 5ms/step - loss: 43.8383 - mae: 43.8383 - val_loss: 56.5562 - val_mae: 56.5562\n",
            "Epoch 42/100\n",
            "15/15 [==============================] - 0s 6ms/step - loss: 44.2091 - mae: 44.2091 - val_loss: 45.0999 - val_mae: 45.0999\n",
            "Epoch 43/100\n",
            "15/15 [==============================] - 0s 27ms/step - loss: 44.2181 - mae: 44.2181 - val_loss: 38.1645 - val_mae: 38.1645\n",
            "Epoch 44/100\n",
            "15/15 [==============================] - 0s 6ms/step - loss: 44.1703 - mae: 44.1703 - val_loss: 44.8971 - val_mae: 44.8971\n",
            "Epoch 45/100\n",
            "15/15 [==============================] - 0s 4ms/step - loss: 43.6100 - mae: 43.6100 - val_loss: 39.8537 - val_mae: 39.8537\n",
            "Epoch 46/100\n",
            "15/15 [==============================] - 0s 5ms/step - loss: 42.9142 - mae: 42.9142 - val_loss: 43.4334 - val_mae: 43.4334\n",
            "Epoch 47/100\n",
            "15/15 [==============================] - 0s 27ms/step - loss: 43.3590 - mae: 43.3590 - val_loss: 37.8039 - val_mae: 37.8039\n",
            "Epoch 48/100\n",
            "15/15 [==============================] - 0s 5ms/step - loss: 42.5214 - mae: 42.5214 - val_loss: 50.8238 - val_mae: 50.8238\n",
            "Epoch 49/100\n",
            "15/15 [==============================] - 0s 5ms/step - loss: 43.9845 - mae: 43.9845 - val_loss: 38.9985 - val_mae: 38.9985\n",
            "Epoch 50/100\n",
            "15/15 [==============================] - 0s 6ms/step - loss: 43.2822 - mae: 43.2822 - val_loss: 39.2381 - val_mae: 39.2381\n",
            "Epoch 51/100\n",
            "15/15 [==============================] - 0s 5ms/step - loss: 43.8613 - mae: 43.8613 - val_loss: 44.4869 - val_mae: 44.4869\n",
            "Epoch 52/100\n",
            "15/15 [==============================] - 0s 5ms/step - loss: 42.3831 - mae: 42.3831 - val_loss: 43.8503 - val_mae: 43.8503\n",
            "Epoch 53/100\n",
            "15/15 [==============================] - 0s 4ms/step - loss: 45.0718 - mae: 45.0718 - val_loss: 40.7828 - val_mae: 40.7828\n",
            "Epoch 54/100\n",
            "15/15 [==============================] - 0s 4ms/step - loss: 45.0292 - mae: 45.0292 - val_loss: 42.3562 - val_mae: 42.3562\n",
            "Epoch 55/100\n",
            "15/15 [==============================] - 0s 5ms/step - loss: 43.6897 - mae: 43.6897 - val_loss: 46.3505 - val_mae: 46.3505\n",
            "Epoch 56/100\n",
            "15/15 [==============================] - 0s 5ms/step - loss: 44.6138 - mae: 44.6138 - val_loss: 45.4012 - val_mae: 45.4012\n",
            "Epoch 57/100\n",
            "15/15 [==============================] - 0s 6ms/step - loss: 43.0367 - mae: 43.0367 - val_loss: 44.0114 - val_mae: 44.0114\n",
            "Epoch 58/100\n",
            "15/15 [==============================] - 0s 5ms/step - loss: 42.3187 - mae: 42.3187 - val_loss: 39.3901 - val_mae: 39.3901\n",
            "Epoch 59/100\n",
            "15/15 [==============================] - 0s 5ms/step - loss: 43.1344 - mae: 43.1344 - val_loss: 58.6830 - val_mae: 58.6830\n",
            "Epoch 60/100\n",
            "15/15 [==============================] - 0s 4ms/step - loss: 44.4119 - mae: 44.4119 - val_loss: 39.4107 - val_mae: 39.4107\n",
            "Epoch 61/100\n",
            "15/15 [==============================] - 0s 5ms/step - loss: 42.9665 - mae: 42.9665 - val_loss: 39.0817 - val_mae: 39.0817\n",
            "Epoch 62/100\n",
            "15/15 [==============================] - 0s 5ms/step - loss: 43.3510 - mae: 43.3510 - val_loss: 44.7255 - val_mae: 44.7255\n",
            "Epoch 63/100\n",
            "15/15 [==============================] - 0s 5ms/step - loss: 42.8689 - mae: 42.8689 - val_loss: 46.8034 - val_mae: 46.8034\n",
            "Epoch 64/100\n",
            "15/15 [==============================] - 0s 5ms/step - loss: 44.9490 - mae: 44.9490 - val_loss: 44.8446 - val_mae: 44.8446\n",
            "Epoch 65/100\n",
            "15/15 [==============================] - 0s 8ms/step - loss: 42.3971 - mae: 42.3971 - val_loss: 39.6944 - val_mae: 39.6944\n",
            "Epoch 66/100\n",
            "15/15 [==============================] - 0s 12ms/step - loss: 44.1801 - mae: 44.1801 - val_loss: 41.3560 - val_mae: 41.3560\n",
            "Epoch 67/100\n",
            "15/15 [==============================] - 0s 9ms/step - loss: 42.4861 - mae: 42.4861 - val_loss: 39.3244 - val_mae: 39.3244\n",
            "Epoch 68/100\n",
            "15/15 [==============================] - 1s 68ms/step - loss: 42.5824 - mae: 42.5824 - val_loss: 37.4140 - val_mae: 37.4140\n",
            "Epoch 69/100\n",
            "15/15 [==============================] - 0s 8ms/step - loss: 42.5233 - mae: 42.5233 - val_loss: 40.4679 - val_mae: 40.4679\n",
            "Epoch 70/100\n",
            "15/15 [==============================] - 0s 13ms/step - loss: 42.3078 - mae: 42.3078 - val_loss: 47.2460 - val_mae: 47.2460\n",
            "Epoch 71/100\n",
            "15/15 [==============================] - 0s 12ms/step - loss: 41.9259 - mae: 41.9259 - val_loss: 37.6120 - val_mae: 37.6120\n",
            "Epoch 72/100\n",
            "15/15 [==============================] - 0s 9ms/step - loss: 42.2256 - mae: 42.2256 - val_loss: 44.3471 - val_mae: 44.3471\n",
            "Epoch 73/100\n",
            "15/15 [==============================] - 0s 10ms/step - loss: 42.6424 - mae: 42.6424 - val_loss: 46.7672 - val_mae: 46.7672\n",
            "Epoch 74/100\n",
            "15/15 [==============================] - 0s 18ms/step - loss: 43.5143 - mae: 43.5143 - val_loss: 38.4005 - val_mae: 38.4005\n",
            "Epoch 75/100\n",
            "15/15 [==============================] - 0s 11ms/step - loss: 42.0830 - mae: 42.0830 - val_loss: 42.7070 - val_mae: 42.7070\n",
            "Epoch 76/100\n",
            "15/15 [==============================] - 0s 7ms/step - loss: 42.1667 - mae: 42.1667 - val_loss: 38.9366 - val_mae: 38.9366\n",
            "Epoch 77/100\n",
            "15/15 [==============================] - 0s 15ms/step - loss: 43.9481 - mae: 43.9481 - val_loss: 37.4728 - val_mae: 37.4728\n",
            "Epoch 78/100\n",
            "15/15 [==============================] - 0s 10ms/step - loss: 41.4644 - mae: 41.4644 - val_loss: 47.1995 - val_mae: 47.1995\n",
            "Epoch 79/100\n",
            "15/15 [==============================] - 1s 51ms/step - loss: 41.5662 - mae: 41.5662 - val_loss: 37.3549 - val_mae: 37.3549\n",
            "Epoch 80/100\n",
            "15/15 [==============================] - 0s 6ms/step - loss: 41.5365 - mae: 41.5365 - val_loss: 37.6187 - val_mae: 37.6187\n",
            "Epoch 81/100\n",
            "15/15 [==============================] - 0s 5ms/step - loss: 41.8279 - mae: 41.8279 - val_loss: 37.3767 - val_mae: 37.3767\n",
            "Epoch 82/100\n",
            "15/15 [==============================] - 0s 5ms/step - loss: 41.8605 - mae: 41.8605 - val_loss: 41.1233 - val_mae: 41.1233\n",
            "Epoch 83/100\n",
            "15/15 [==============================] - 0s 5ms/step - loss: 42.1905 - mae: 42.1905 - val_loss: 47.0083 - val_mae: 47.0083\n",
            "Epoch 84/100\n",
            "15/15 [==============================] - 0s 5ms/step - loss: 43.8675 - mae: 43.8675 - val_loss: 37.5245 - val_mae: 37.5245\n",
            "Epoch 85/100\n",
            "15/15 [==============================] - 0s 29ms/step - loss: 42.3504 - mae: 42.3504 - val_loss: 37.3203 - val_mae: 37.3203\n",
            "Epoch 86/100\n",
            "15/15 [==============================] - 0s 5ms/step - loss: 41.9294 - mae: 41.9294 - val_loss: 38.2475 - val_mae: 38.2475\n",
            "Epoch 87/100\n",
            "15/15 [==============================] - 0s 5ms/step - loss: 42.1747 - mae: 42.1747 - val_loss: 37.3615 - val_mae: 37.3615\n",
            "Epoch 88/100\n",
            "15/15 [==============================] - 0s 6ms/step - loss: 42.8655 - mae: 42.8655 - val_loss: 40.5111 - val_mae: 40.5111\n",
            "Epoch 89/100\n",
            "15/15 [==============================] - 0s 6ms/step - loss: 43.1801 - mae: 43.1801 - val_loss: 38.0207 - val_mae: 38.0207\n",
            "Epoch 90/100\n",
            "15/15 [==============================] - 0s 5ms/step - loss: 42.2448 - mae: 42.2448 - val_loss: 37.3397 - val_mae: 37.3397\n",
            "Epoch 91/100\n",
            "15/15 [==============================] - 0s 5ms/step - loss: 42.9767 - mae: 42.9767 - val_loss: 41.8978 - val_mae: 41.8978\n",
            "Epoch 92/100\n",
            "15/15 [==============================] - 0s 5ms/step - loss: 43.1274 - mae: 43.1274 - val_loss: 39.9138 - val_mae: 39.9138\n",
            "Epoch 93/100\n",
            "15/15 [==============================] - 0s 5ms/step - loss: 46.2059 - mae: 46.2059 - val_loss: 61.7077 - val_mae: 61.7077\n",
            "Epoch 94/100\n",
            "15/15 [==============================] - 0s 5ms/step - loss: 46.8256 - mae: 46.8256 - val_loss: 48.3971 - val_mae: 48.3971\n",
            "Epoch 95/100\n",
            "15/15 [==============================] - 0s 6ms/step - loss: 42.7641 - mae: 42.7641 - val_loss: 39.5819 - val_mae: 39.5819\n",
            "Epoch 96/100\n",
            "15/15 [==============================] - 0s 8ms/step - loss: 42.4482 - mae: 42.4482 - val_loss: 40.3232 - val_mae: 40.3232\n",
            "Epoch 97/100\n",
            "15/15 [==============================] - 0s 7ms/step - loss: 42.1915 - mae: 42.1915 - val_loss: 41.2146 - val_mae: 41.2146\n",
            "Epoch 98/100\n",
            "15/15 [==============================] - 0s 7ms/step - loss: 44.1195 - mae: 44.1195 - val_loss: 42.1203 - val_mae: 42.1203\n",
            "Epoch 99/100\n",
            "15/15 [==============================] - 0s 7ms/step - loss: 44.6542 - mae: 44.6542 - val_loss: 39.4235 - val_mae: 39.4235\n",
            "Epoch 100/100\n",
            "15/15 [==============================] - 0s 7ms/step - loss: 43.9757 - mae: 43.9757 - val_loss: 52.2591 - val_mae: 52.2591\n"
          ]
        },
        {
          "output_type": "execute_result",
          "data": {
            "text/plain": [
              "<keras.src.callbacks.History at 0x79b8c8cbd210>"
            ]
          },
          "metadata": {},
          "execution_count": 36
        }
      ]
    },
    {
      "cell_type": "code",
      "source": [
        "# Evaluate model on test data\n",
        "model_1.evaluate(test_windows, test_labels)"
      ],
      "metadata": {
        "colab": {
          "base_uri": "https://localhost:8080/"
        },
        "id": "hQfE1RYhKIIB",
        "outputId": "b73e4f90-4862-44ee-af26-b5a96a287361"
      },
      "execution_count": 37,
      "outputs": [
        {
          "output_type": "stream",
          "name": "stdout",
          "text": [
            "15/15 [==============================] - 0s 2ms/step - loss: 52.2591 - mae: 52.2591\n"
          ]
        },
        {
          "output_type": "execute_result",
          "data": {
            "text/plain": [
              "[52.25906753540039, 52.25906753540039]"
            ]
          },
          "metadata": {},
          "execution_count": 37
        }
      ]
    },
    {
      "cell_type": "code",
      "source": [
        "model_1 = tf.keras.models.load_model(\"model_experiments/model_1_dense\")\n",
        "model_1.evaluate(test_windows, test_labels)"
      ],
      "metadata": {
        "colab": {
          "base_uri": "https://localhost:8080/"
        },
        "id": "Rkj_kbFHKPLR",
        "outputId": "f40c8a5d-3563-4955-a394-a42f059a67b0"
      },
      "execution_count": 38,
      "outputs": [
        {
          "output_type": "stream",
          "name": "stdout",
          "text": [
            "15/15 [==============================] - 0s 2ms/step - loss: 37.3203 - mae: 37.3203\n"
          ]
        },
        {
          "output_type": "execute_result",
          "data": {
            "text/plain": [
              "[37.3203239440918, 37.3203239440918]"
            ]
          },
          "metadata": {},
          "execution_count": 38
        }
      ]
    },
    {
      "cell_type": "code",
      "source": [
        "def make_preds(model, input_data):\n",
        "  forecast = model.predict(input_data)\n",
        "  return tf.squeeze(forecast)"
      ],
      "metadata": {
        "id": "tjLU3TEzKP_p"
      },
      "execution_count": 39,
      "outputs": []
    },
    {
      "cell_type": "code",
      "source": [
        "# Make predictions using model_1 on the test dataset and view the results\n",
        "model_1_preds = make_preds(model_1, test_windows)\n",
        "len(model_1_preds), model_1_preds[:10]"
      ],
      "metadata": {
        "colab": {
          "base_uri": "https://localhost:8080/"
        },
        "id": "g9_johQVKYJG",
        "outputId": "849f9d59-dc7e-42dc-b296-c5df2d152ee7"
      },
      "execution_count": 40,
      "outputs": [
        {
          "output_type": "stream",
          "name": "stdout",
          "text": [
            "15/15 [==============================] - 0s 2ms/step\n"
          ]
        },
        {
          "output_type": "execute_result",
          "data": {
            "text/plain": [
              "(465,\n",
              " <tf.Tensor: shape=(10,), dtype=float32, numpy=\n",
              " array([1278.6638, 1184.4573, 1182.0261, 1183.1886, 1174.8164, 1209.2539,\n",
              "        1210.3473, 1223.9496, 1220.754 , 1221.606 ], dtype=float32)>)"
            ]
          },
          "metadata": {},
          "execution_count": 40
        }
      ]
    },
    {
      "cell_type": "code",
      "source": [
        "model_1_results = evaluate_preds(y_true=tf.squeeze(test_labels),\n",
        "                                 y_pred=model_1_preds)\n",
        "model_1_results"
      ],
      "metadata": {
        "colab": {
          "base_uri": "https://localhost:8080/"
        },
        "id": "IGuvnvy0Kid3",
        "outputId": "b08b601f-d044-49d1-acfc-a87bcc5b9832"
      },
      "execution_count": 41,
      "outputs": [
        {
          "output_type": "execute_result",
          "data": {
            "text/plain": [
              "{'mae': 37.320324,\n",
              " 'mse': 3327.7942,\n",
              " 'rmse': 57.687035,\n",
              " 'mape': 1.8075267,\n",
              " 'mase': 0.99393237}"
            ]
          },
          "metadata": {},
          "execution_count": 41
        }
      ]
    },
    {
      "cell_type": "code",
      "source": [
        "naive_results"
      ],
      "metadata": {
        "colab": {
          "base_uri": "https://localhost:8080/"
        },
        "id": "23uAYmWFLLMj",
        "outputId": "015fa200-4a99-46c8-a7a8-c123e0745b14"
      },
      "execution_count": 42,
      "outputs": [
        {
          "output_type": "execute_result",
          "data": {
            "text/plain": [
              "{'mae': 37.67836,\n",
              " 'mse': 3442.704,\n",
              " 'rmse': 58.67456,\n",
              " 'mape': 1.8211035,\n",
              " 'mase': 1.0034677}"
            ]
          },
          "metadata": {},
          "execution_count": 42
        }
      ]
    },
    {
      "cell_type": "code",
      "source": [
        "offset = 300\n",
        "plt.figure(figsize=(10, 7))\n",
        "# Account for the test_window offset and index into test_labels to ensure correct plotting\n",
        "plot_time_series(timesteps=X_test[-len(test_windows):], values=test_labels[:, 0], start=offset, label=\"Test_data\")\n",
        "plot_time_series(timesteps=X_test[-len(test_windows):], values=model_1_preds, start=offset, format=\"-\", label=\"model_1_preds\")"
      ],
      "metadata": {
        "colab": {
          "base_uri": "https://localhost:8080/",
          "height": 619
        },
        "id": "A3XMGrrfLPKf",
        "outputId": "af54b41d-5134-4730-cc32-80872fa5fccd"
      },
      "execution_count": 43,
      "outputs": [
        {
          "output_type": "display_data",
          "data": {
            "text/plain": [
              "<Figure size 1000x700 with 1 Axes>"
            ],
            "image/png": "[encoded data removed]"
          },
          "metadata": {}
        }
      ]
    },
    {
      "cell_type": "code",
      "source": [
        "pd.DataFrame({\"naive\": naive_results[\"mae\"],\n",
        "              \"horizon_1_window_7\": model_1_results[\"mae\"]}, index=[\"mae\"]).plot(figsize=(9, 5), kind=\"bar\");"
      ],
      "metadata": {
        "colab": {
          "base_uri": "https://localhost:8080/",
          "height": 462
        },
        "id": "mENkSNmvLTfl",
        "outputId": "f556c71e-f139-4152-8c59-198c86379e41"
      },
      "execution_count": 44,
      "outputs": [
        {
          "output_type": "display_data",
          "data": {
            "text/plain": [
              "<Figure size 900x500 with 1 Axes>"
            ],
            "image/png": "[encoded data removed]"
          },
          "metadata": {}
        }
      ]
    },
    {
      "cell_type": "markdown",
      "source": [
        "### Model 2: Conv1D"
      ],
      "metadata": {
        "id": "W5SbFSRnPENF"
      }
    },
    {
      "cell_type": "code",
      "source": [
        "train_windows, test_windows, train_labels, test_labels = make_train_test_splits(full_windows, full_labels)\n",
        "len(train_windows), len(test_windows), len(train_labels), len(test_labels)"
      ],
      "metadata": {
        "colab": {
          "base_uri": "https://localhost:8080/"
        },
        "id": "RnySkfHOPl5z",
        "outputId": "c58e1fb2-0b50-45bc-de73-0cba82909649"
      },
      "execution_count": 45,
      "outputs": [
        {
          "output_type": "execute_result",
          "data": {
            "text/plain": [
              "(1856, 465, 1856, 465)"
            ]
          },
          "metadata": {},
          "execution_count": 45
        }
      ]
    },
    {
      "cell_type": "code",
      "source": [
        "train_windows[0].shape"
      ],
      "metadata": {
        "colab": {
          "base_uri": "https://localhost:8080/"
        },
        "id": "WJ-q24moP-FM",
        "outputId": "cfd581c8-1b71-4c46-b073-b75f5611bd5c"
      },
      "execution_count": 46,
      "outputs": [
        {
          "output_type": "execute_result",
          "data": {
            "text/plain": [
              "(7,)"
            ]
          },
          "metadata": {},
          "execution_count": 46
        }
      ]
    },
    {
      "cell_type": "code",
      "source": [
        "x = tf.constant(train_windows[0])\n",
        "expand_dims_layer = layers.Lambda(lambda x: tf.expand_dims(x, axis=1)) # add an extra dimension for timesteps\n",
        "print(f\"Original shape: {x.shape}\") # (WINDOW_SIZE)\n",
        "print(f\"Expanded shape: {expand_dims_layer(x).shape}\") # (WINDOW_SIZE, input_dim)\n",
        "print(f\"Original values with expanded shape:\\n {expand_dims_layer(x)}\")"
      ],
      "metadata": {
        "colab": {
          "base_uri": "https://localhost:8080/"
        },
        "id": "nE9RwCGeQDlw",
        "outputId": "398cbf3d-a939-4442-a161-bef3704d313e"
      },
      "execution_count": 47,
      "outputs": [
        {
          "output_type": "stream",
          "name": "stdout",
          "text": [
            "Original shape: (7,)\n",
            "Expanded shape: (7, 1)\n",
            "Original values with expanded shape:\n",
            " [[320.884]\n",
            " [299.253]\n",
            " [314.681]\n",
            " [307.908]\n",
            " [316.716]\n",
            " [337.631]\n",
            " [333.357]]\n"
          ]
        }
      ]
    },
    {
      "cell_type": "code",
      "source": [
        "tf.random.set_seed(42)\n",
        "\n",
        "# Create model\n",
        "model_2 = tf.keras.Sequential([\n",
        "  layers.Lambda(lambda x: tf.expand_dims(x, axis=1)),\n",
        "  layers.Conv1D(filters=128, kernel_size=5, padding=\"causal\", activation=\"relu\"),\n",
        "  layers.Dense(HORIZON)\n",
        "], name=\"model_2_conv1D\")\n",
        "\n",
        "# Compile model\n",
        "model_2.compile(loss=\"mae\",\n",
        "                optimizer=tf.keras.optimizers.Adam())\n",
        "\n",
        "# Fit model\n",
        "model_2.fit(train_windows,\n",
        "            train_labels,\n",
        "            batch_size=128,\n",
        "            epochs=100,\n",
        "            verbose=0,\n",
        "            validation_data=(test_windows, test_labels),\n",
        "            callbacks=[create_model_checkpoint(model_name=model_2.name)])"
      ],
      "metadata": {
        "colab": {
          "base_uri": "https://localhost:8080/"
        },
        "id": "QB7o_z8MQuCE",
        "outputId": "45dd6c34-076e-401f-f7b8-86de5bfa45ff"
      },
      "execution_count": 48,
      "outputs": [
        {
          "output_type": "execute_result",
          "data": {
            "text/plain": [
              "<keras.src.callbacks.History at 0x79b8641c9ed0>"
            ]
          },
          "metadata": {},
          "execution_count": 48
        }
      ]
    },
    {
      "cell_type": "code",
      "source": [
        "model_2.summary()"
      ],
      "metadata": {
        "colab": {
          "base_uri": "https://localhost:8080/"
        },
        "id": "H8DSb9WLRBmH",
        "outputId": "bfb04ceb-1d19-4e1e-a5aa-7a74aba9496d"
      },
      "execution_count": 49,
      "outputs": [
        {
          "output_type": "stream",
          "name": "stdout",
          "text": [
            "Model: \"model_2_conv1D\"\n",
            "_________________________________________________________________\n",
            " Layer (type)                Output Shape              Param #   \n",
            "=================================================================\n",
            " lambda_1 (Lambda)           (None, 1, 7)              0         \n",
            "                                                                 \n",
            " conv1d (Conv1D)             (None, 1, 128)            4608      \n",
            "                                                                 \n",
            " dense_2 (Dense)             (None, 1, 1)              129       \n",
            "                                                                 \n",
            "=================================================================\n",
            "Total params: 4737 (18.50 KB)\n",
            "Trainable params: 4737 (18.50 KB)\n",
            "Non-trainable params: 0 (0.00 Byte)\n",
            "_________________________________________________________________\n"
          ]
        }
      ]
    },
    {
      "cell_type": "code",
      "source": [
        "# Load in best performing Conv1D model and evaluate it on the test data\n",
        "model_2 = tf.keras.models.load_model(\"model_experiments/model_2_conv1D\")\n",
        "model_2.evaluate(test_windows, test_labels)"
      ],
      "metadata": {
        "colab": {
          "base_uri": "https://localhost:8080/"
        },
        "id": "FIjkkg16RFA1",
        "outputId": "bcf2ab11-fca0-45d4-a741-81a5280000af"
      },
      "execution_count": 50,
      "outputs": [
        {
          "output_type": "stream",
          "name": "stdout",
          "text": [
            "15/15 [==============================] - 0s 6ms/step - loss: 37.6355\n"
          ]
        },
        {
          "output_type": "execute_result",
          "data": {
            "text/plain": [
              "37.63552474975586"
            ]
          },
          "metadata": {},
          "execution_count": 50
        }
      ]
    },
    {
      "cell_type": "code",
      "source": [
        "# Make predictions\n",
        "model_2_preds = make_preds(model_2, test_windows)\n",
        "model_2_preds[:10]"
      ],
      "metadata": {
        "colab": {
          "base_uri": "https://localhost:8080/"
        },
        "id": "xTaljy2PRrZt",
        "outputId": "b95ce0d5-4095-4679-adc9-2773b7eb2e13"
      },
      "execution_count": 51,
      "outputs": [
        {
          "output_type": "stream",
          "name": "stdout",
          "text": [
            "15/15 [==============================] - 0s 3ms/step\n"
          ]
        },
        {
          "output_type": "execute_result",
          "data": {
            "text/plain": [
              "<tf.Tensor: shape=(10,), dtype=float32, numpy=\n",
              "array([1278.2523, 1193.9338, 1183.698 , 1181.3917, 1164.6931, 1202.4098,\n",
              "       1210.5211, 1218.0248, 1221.6748, 1221.5308], dtype=float32)>"
            ]
          },
          "metadata": {},
          "execution_count": 51
        }
      ]
    },
    {
      "cell_type": "code",
      "source": [
        "# Evaluate predictions\n",
        "model_2_results = evaluate_preds(y_true=tf.squeeze(test_labels),\n",
        "                                 y_pred=model_2_preds)\n",
        "model_2_results"
      ],
      "metadata": {
        "colab": {
          "base_uri": "https://localhost:8080/"
        },
        "id": "XXWfJQhERLS-",
        "outputId": "2913ccbc-0613-41ac-c15a-384134e330e5"
      },
      "execution_count": 52,
      "outputs": [
        {
          "output_type": "execute_result",
          "data": {
            "text/plain": [
              "{'mae': 37.635525,\n",
              " 'mse': 3397.3582,\n",
              " 'rmse': 58.28686,\n",
              " 'mape': 1.8221929,\n",
              " 'mase': 1.002327}"
            ]
          },
          "metadata": {},
          "execution_count": 52
        }
      ]
    },
    {
      "cell_type": "markdown",
      "source": [
        "Model 3: N-Beats Algorithm"
      ],
      "metadata": {
        "id": "nb8wz0e152Db"
      }
    },
    {
      "cell_type": "code",
      "source": [
        "# Create NBeatsBlock custom layer\n",
        "class NBeatsBlock(tf.keras.layers.Layer):\n",
        "  def __init__(self, # the constructor takes all the hyperparameters for the layer\n",
        "               input_size: int,\n",
        "               theta_size: int,\n",
        "               horizon: int,\n",
        "               n_neurons: int,\n",
        "               n_layers: int,\n",
        "               **kwargs): # the **kwargs argument takes care of all of the arguments for the parent class (input_shape, trainable, name)\n",
        "    super().__init__(**kwargs)\n",
        "    self.input_size = input_size\n",
        "    self.theta_size = theta_size\n",
        "    self.horizon = horizon\n",
        "    self.n_neurons = n_neurons\n",
        "    self.n_layers = n_layers\n",
        "\n",
        "    # Block contains stack of 4 fully connected layers each has ReLU activation\n",
        "    self.hidden = [tf.keras.layers.Dense(n_neurons, activation=\"relu\") for _ in range(n_layers)]\n",
        "    # Output of block is a theta layer with linear activation\n",
        "    self.theta_layer = tf.keras.layers.Dense(theta_size, activation=\"linear\", name=\"theta\")\n",
        "\n",
        "  def call(self, inputs): # the call method is what runs when the layer is called\n",
        "    x = inputs\n",
        "    for layer in self.hidden: # pass inputs through each hidden layer\n",
        "      x = layer(x)\n",
        "    theta = self.theta_layer(x)\n",
        "    # Output the backcast and forecast from theta\n",
        "    backcast, forecast = theta[:, :self.input_size], theta[:, -self.horizon:]\n",
        "    return backcast, forecast"
      ],
      "metadata": {
        "id": "FSXuvH236Oul"
      },
      "execution_count": 53,
      "outputs": []
    },
    {
      "cell_type": "code",
      "source": [
        "# Set up dummy NBeatsBlock layer to represent inputs and outputs\n",
        "dummy_nbeats_block_layer = NBeatsBlock(input_size=WINDOW_SIZE,\n",
        "                                       theta_size=WINDOW_SIZE+HORIZON, # backcast + forecast\n",
        "                                       horizon=HORIZON,\n",
        "                                       n_neurons=128,\n",
        "                                       n_layers=4)"
      ],
      "metadata": {
        "id": "4Mp-JOcA7Geb"
      },
      "execution_count": 54,
      "outputs": []
    },
    {
      "cell_type": "code",
      "source": [
        "# Create dummy inputs (have to be same size as input_size)\n",
        "dummy_inputs = tf.expand_dims(tf.range(WINDOW_SIZE) + 1, axis=0) # input shape to the model has to reflect Dense layer input requirements (ndim=2)\n",
        "dummy_inputs"
      ],
      "metadata": {
        "colab": {
          "base_uri": "https://localhost:8080/"
        },
        "id": "YIp7dDq47HKD",
        "outputId": "18c8d1c7-27bb-442a-d598-dfaa4c41887e"
      },
      "execution_count": 55,
      "outputs": [
        {
          "output_type": "execute_result",
          "data": {
            "text/plain": [
              "<tf.Tensor: shape=(1, 7), dtype=int32, numpy=array([[1, 2, 3, 4, 5, 6, 7]], dtype=int32)>"
            ]
          },
          "metadata": {},
          "execution_count": 55
        }
      ]
    },
    {
      "cell_type": "code",
      "source": [
        "# Pass dummy inputs to dummy NBeatsBlock layer\n",
        "backcast, forecast = dummy_nbeats_block_layer(dummy_inputs)\n",
        "# These are the activation outputs of the theta layer (they'll be random due to no training of the model)\n",
        "print(f\"Backcast: {tf.squeeze(backcast.numpy())}\")\n",
        "print(f\"Forecast: {tf.squeeze(forecast.numpy())}\")"
      ],
      "metadata": {
        "colab": {
          "base_uri": "https://localhost:8080/"
        },
        "id": "gvmDZr_X7Jys",
        "outputId": "186b0162-ccc7-421c-db34-ac8b4e043e25"
      },
      "execution_count": 56,
      "outputs": [
        {
          "output_type": "stream",
          "name": "stdout",
          "text": [
            "Backcast: [ 0.9656488   0.01287943 -1.0539099  -0.02233201  1.4512066  -0.51846296\n",
            "  0.96519524]\n",
            "Forecast: 0.5993768572807312\n"
          ]
        }
      ]
    },
    {
      "cell_type": "code",
      "source": [
        "HORIZON = 1\n",
        "WINDOW_SIZE = 7"
      ],
      "metadata": {
        "id": "E4YqtKiP7Mju"
      },
      "execution_count": 57,
      "outputs": []
    },
    {
      "cell_type": "code",
      "source": [
        "ethereum_prices.head()"
      ],
      "metadata": {
        "colab": {
          "base_uri": "https://localhost:8080/",
          "height": 237
        },
        "id": "_kBXoo467QsM",
        "outputId": "b08f6117-4b69-4843-e1b5-10a47ed7250c"
      },
      "execution_count": 58,
      "outputs": [
        {
          "output_type": "execute_result",
          "data": {
            "text/plain": [
              "                 Price\n",
              "Date                  \n",
              "2017-11-09  320.884003\n",
              "2017-11-10  299.252991\n",
              "2017-11-11  314.681000\n",
              "2017-11-12  307.907990\n",
              "2017-11-13  316.716003"
            ],
            "text/html": [
              "\n",
              "  <div id=\"df-6be631a0-cddb-4003-b29f-e4a226994e29\" class=\"colab-df-container\">\n",
              "    <div>\n",
              "<style scoped>\n",
              "    .dataframe tbody tr th:only-of-type {\n",
              "        vertical-align: middle;\n",
              "    }\n",
              "\n",
              "    .dataframe tbody tr th {\n",
              "        vertical-align: top;\n",
              "    }\n",
              "\n",
              "    .dataframe thead th {\n",
              "        text-align: right;\n",
              "    }\n",
              "</style>\n",
              "<table border=\"1\" class=\"dataframe\">\n",
              "  <thead>\n",
              "    <tr style=\"text-align: right;\">\n",
              "      <th></th>\n",
              "      <th>Price</th>\n",
              "    </tr>\n",
              "    <tr>\n",
              "      <th>Date</th>\n",
              "      <th></th>\n",
              "    </tr>\n",
              "  </thead>\n",
              "  <tbody>\n",
              "    <tr>\n",
              "      <th>2017-11-09</th>\n",
              "      <td>320.884003</td>\n",
              "    </tr>\n",
              "    <tr>\n",
              "      <th>2017-11-10</th>\n",
              "      <td>299.252991</td>\n",
              "    </tr>\n",
              "    <tr>\n",
              "      <th>2017-11-11</th>\n",
              "      <td>314.681000</td>\n",
              "    </tr>\n",
              "    <tr>\n",
              "      <th>2017-11-12</th>\n",
              "      <td>307.907990</td>\n",
              "    </tr>\n",
              "    <tr>\n",
              "      <th>2017-11-13</th>\n",
              "      <td>316.716003</td>\n",
              "    </tr>\n",
              "  </tbody>\n",
              "</table>\n",
              "</div>\n",
              "    <div class=\"colab-df-buttons\">\n",
              "\n",
              "  <div class=\"colab-df-container\">\n",
              "    <button class=\"colab-df-convert\" onclick=\"convertToInteractive('df-6be631a0-cddb-4003-b29f-e4a226994e29')\"\n",
              "            title=\"Convert this dataframe to an interactive table.\"\n",
              "            style=\"display:none;\">\n",
              "\n",
              "  <svg xmlns=\"http://www.w3.org/2000/svg\" height=\"24px\" viewBox=\"0 -960 960 960\">\n",
              "    <path d=\"M120-120v-720h720v720H120Zm60-500h600v-160H180v160Zm220 220h160v-160H400v160Zm0 220h160v-160H400v160ZM180-400h160v-160H180v160Zm440 0h160v-160H620v160ZM180-180h160v-160H180v160Zm440 0h160v-160H620v160Z\"/>\n",
              "  </svg>\n",
              "    </button>\n",
              "\n",
              "  <style>\n",
              "    .colab-df-container {\n",
              "      display:flex;\n",
              "      gap: 12px;\n",
              "    }\n",
              "\n",
              "    .colab-df-convert {\n",
              "      background-color: #E8F0FE;\n",
              "      border: none;\n",
              "      border-radius: 50%;\n",
              "      cursor: pointer;\n",
              "      display: none;\n",
              "      fill: #1967D2;\n",
              "      height: 32px;\n",
              "      padding: 0 0 0 0;\n",
              "      width: 32px;\n",
              "    }\n",
              "\n",
              "    .colab-df-convert:hover {\n",
              "      background-color: #E2EBFA;\n",
              "      box-shadow: 0px 1px 2px rgba(60, 64, 67, 0.3), 0px 1px 3px 1px rgba(60, 64, 67, 0.15);\n",
              "      fill: #174EA6;\n",
              "    }\n",
              "\n",
              "    .colab-df-buttons div {\n",
              "      margin-bottom: 4px;\n",
              "    }\n",
              "\n",
              "    [theme=dark] .colab-df-convert {\n",
              "      background-color: #3B4455;\n",
              "      fill: #D2E3FC;\n",
              "    }\n",
              "\n",
              "    [theme=dark] .colab-df-convert:hover {\n",
              "      background-color: #434B5C;\n",
              "      box-shadow: 0px 1px 3px 1px rgba(0, 0, 0, 0.15);\n",
              "      filter: drop-shadow(0px 1px 2px rgba(0, 0, 0, 0.3));\n",
              "      fill: #FFFFFF;\n",
              "    }\n",
              "  </style>\n",
              "\n",
              "    <script>\n",
              "      const buttonEl =\n",
              "        document.querySelector('#df-6be631a0-cddb-4003-b29f-e4a226994e29 button.colab-df-convert');\n",
              "      buttonEl.style.display =\n",
              "        google.colab.kernel.accessAllowed ? 'block' : 'none';\n",
              "\n",
              "      async function convertToInteractive(key) {\n",
              "        const element = document.querySelector('#df-6be631a0-cddb-4003-b29f-e4a226994e29');\n",
              "        const dataTable =\n",
              "          await google.colab.kernel.invokeFunction('convertToInteractive',\n",
              "                                                    [key], {});\n",
              "        if (!dataTable) return;\n",
              "\n",
              "        const docLinkHtml = 'Like what you see? Visit the ' +\n",
              "          '<a target=\"_blank\" href=https://colab.research.google.com/notebooks/data_table.ipynb>data table notebook</a>'\n",
              "          + ' to learn more about interactive tables.';\n",
              "        element.innerHTML = '';\n",
              "        dataTable['output_type'] = 'display_data';\n",
              "        await google.colab.output.renderOutput(dataTable, element);\n",
              "        const docLink = document.createElement('div');\n",
              "        docLink.innerHTML = docLinkHtml;\n",
              "        element.appendChild(docLink);\n",
              "      }\n",
              "    </script>\n",
              "  </div>\n",
              "\n",
              "\n",
              "<div id=\"df-c58251aa-6703-4b61-bafd-d7921f3e9fd6\">\n",
              "  <button class=\"colab-df-quickchart\" onclick=\"quickchart('df-c58251aa-6703-4b61-bafd-d7921f3e9fd6')\"\n",
              "            title=\"Suggest charts\"\n",
              "            style=\"display:none;\">\n",
              "\n",
              "<svg xmlns=\"http://www.w3.org/2000/svg\" height=\"24px\"viewBox=\"0 0 24 24\"\n",
              "     width=\"24px\">\n",
              "    <g>\n",
              "        <path d=\"M19 3H5c-1.1 0-2 .9-2 2v14c0 1.1.9 2 2 2h14c1.1 0 2-.9 2-2V5c0-1.1-.9-2-2-2zM9 17H7v-7h2v7zm4 0h-2V7h2v10zm4 0h-2v-4h2v4z\"/>\n",
              "    </g>\n",
              "</svg>\n",
              "  </button>\n",
              "\n",
              "<style>\n",
              "  .colab-df-quickchart {\n",
              "      --bg-color: #E8F0FE;\n",
              "      --fill-color: #1967D2;\n",
              "      --hover-bg-color: #E2EBFA;\n",
              "      --hover-fill-color: #174EA6;\n",
              "      --disabled-fill-color: #AAA;\n",
              "      --disabled-bg-color: #DDD;\n",
              "  }\n",
              "\n",
              "  [theme=dark] .colab-df-quickchart {\n",
              "      --bg-color: #3B4455;\n",
              "      --fill-color: #D2E3FC;\n",
              "      --hover-bg-color: #434B5C;\n",
              "      --hover-fill-color: #FFFFFF;\n",
              "      --disabled-bg-color: #3B4455;\n",
              "      --disabled-fill-color: #666;\n",
              "  }\n",
              "\n",
              "  .colab-df-quickchart {\n",
              "    background-color: var(--bg-color);\n",
              "    border: none;\n",
              "    border-radius: 50%;\n",
              "    cursor: pointer;\n",
              "    display: none;\n",
              "    fill: var(--fill-color);\n",
              "    height: 32px;\n",
              "    padding: 0;\n",
              "    width: 32px;\n",
              "  }\n",
              "\n",
              "  .colab-df-quickchart:hover {\n",
              "    background-color: var(--hover-bg-color);\n",
              "    box-shadow: 0 1px 2px rgba(60, 64, 67, 0.3), 0 1px 3px 1px rgba(60, 64, 67, 0.15);\n",
              "    fill: var(--button-hover-fill-color);\n",
              "  }\n",
              "\n",
              "  .colab-df-quickchart-complete:disabled,\n",
              "  .colab-df-quickchart-complete:disabled:hover {\n",
              "    background-color: var(--disabled-bg-color);\n",
              "    fill: var(--disabled-fill-color);\n",
              "    box-shadow: none;\n",
              "  }\n",
              "\n",
              "  .colab-df-spinner {\n",
              "    border: 2px solid var(--fill-color);\n",
              "    border-color: transparent;\n",
              "    border-bottom-color: var(--fill-color);\n",
              "    animation:\n",
              "      spin 1s steps(1) infinite;\n",
              "  }\n",
              "\n",
              "  @keyframes spin {\n",
              "    0% {\n",
              "      border-color: transparent;\n",
              "      border-bottom-color: var(--fill-color);\n",
              "      border-left-color: var(--fill-color);\n",
              "    }\n",
              "    20% {\n",
              "      border-color: transparent;\n",
              "      border-left-color: var(--fill-color);\n",
              "      border-top-color: var(--fill-color);\n",
              "    }\n",
              "    30% {\n",
              "      border-color: transparent;\n",
              "      border-left-color: var(--fill-color);\n",
              "      border-top-color: var(--fill-color);\n",
              "      border-right-color: var(--fill-color);\n",
              "    }\n",
              "    40% {\n",
              "      border-color: transparent;\n",
              "      border-right-color: var(--fill-color);\n",
              "      border-top-color: var(--fill-color);\n",
              "    }\n",
              "    60% {\n",
              "      border-color: transparent;\n",
              "      border-right-color: var(--fill-color);\n",
              "    }\n",
              "    80% {\n",
              "      border-color: transparent;\n",
              "      border-right-color: var(--fill-color);\n",
              "      border-bottom-color: var(--fill-color);\n",
              "    }\n",
              "    90% {\n",
              "      border-color: transparent;\n",
              "      border-bottom-color: var(--fill-color);\n",
              "    }\n",
              "  }\n",
              "</style>\n",
              "\n",
              "  <script>\n",
              "    async function quickchart(key) {\n",
              "      const quickchartButtonEl =\n",
              "        document.querySelector('#' + key + ' button');\n",
              "      quickchartButtonEl.disabled = true;  // To prevent multiple clicks.\n",
              "      quickchartButtonEl.classList.add('colab-df-spinner');\n",
              "      try {\n",
              "        const charts = await google.colab.kernel.invokeFunction(\n",
              "            'suggestCharts', [key], {});\n",
              "      } catch (error) {\n",
              "        console.error('Error during call to suggestCharts:', error);\n",
              "      }\n",
              "      quickchartButtonEl.classList.remove('colab-df-spinner');\n",
              "      quickchartButtonEl.classList.add('colab-df-quickchart-complete');\n",
              "    }\n",
              "    (() => {\n",
              "      let quickchartButtonEl =\n",
              "        document.querySelector('#df-c58251aa-6703-4b61-bafd-d7921f3e9fd6 button');\n",
              "      quickchartButtonEl.style.display =\n",
              "        google.colab.kernel.accessAllowed ? 'block' : 'none';\n",
              "    })();\n",
              "  </script>\n",
              "</div>\n",
              "\n",
              "    </div>\n",
              "  </div>\n"
            ],
            "application/vnd.google.colaboratory.intrinsic+json": {
              "type": "dataframe",
              "variable_name": "ethereum_prices",
              "summary": "{\n  \"name\": \"ethereum_prices\",\n  \"rows\": 2328,\n  \"fields\": [\n    {\n      \"column\": \"Date\",\n      \"properties\": {\n        \"dtype\": \"date\",\n        \"min\": \"2017-11-09 00:00:00\",\n        \"max\": \"2024-03-24 00:00:00\",\n        \"num_unique_values\": 2328,\n        \"samples\": [\n          \"2022-08-12 00:00:00\",\n          \"2019-12-04 00:00:00\",\n          \"2022-06-06 00:00:00\"\n        ],\n        \"semantic_type\": \"\",\n        \"description\": \"\"\n      }\n    },\n    {\n      \"column\": \"Price\",\n      \"properties\": {\n        \"dtype\": \"number\",\n        \"std\": 1144.0232324242538,\n        \"min\": 84.308296,\n        \"max\": 4812.087402,\n        \"num_unique_values\": 2328,\n        \"samples\": [\n          1957.24646,\n          146.747742,\n          1859.289673\n        ],\n        \"semantic_type\": \"\",\n        \"description\": \"\"\n      }\n    }\n  ]\n}"
            }
          },
          "metadata": {},
          "execution_count": 58
        }
      ]
    },
    {
      "cell_type": "code",
      "source": [
        "ethereum_prices_nbeats = ethereum_prices.copy()\n",
        "for i in range(WINDOW_SIZE):\n",
        "  ethereum_prices_nbeats[f\"Price+{i+1}\"] = ethereum_prices_nbeats[\"Price\"].shift(periods=i+1)\n",
        "ethereum_prices_nbeats.dropna().head()"
      ],
      "metadata": {
        "colab": {
          "base_uri": "https://localhost:8080/",
          "height": 237
        },
        "id": "oC1RJEVG7VUV",
        "outputId": "dd485e6f-3cfe-4158-d356-00fadf4725be"
      },
      "execution_count": 59,
      "outputs": [
        {
          "output_type": "execute_result",
          "data": {
            "text/plain": [
              "                 Price     Price+1     Price+2     Price+3     Price+4  \\\n",
              "Date                                                                     \n",
              "2017-11-16  330.924011  333.356995  337.631012  316.716003  307.907990   \n",
              "2017-11-17  332.394012  330.924011  333.356995  337.631012  316.716003   \n",
              "2017-11-18  347.612000  332.394012  330.924011  333.356995  337.631012   \n",
              "2017-11-19  354.385986  347.612000  332.394012  330.924011  333.356995   \n",
              "2017-11-20  366.730011  354.385986  347.612000  332.394012  330.924011   \n",
              "\n",
              "               Price+5     Price+6     Price+7  \n",
              "Date                                            \n",
              "2017-11-16  314.681000  299.252991  320.884003  \n",
              "2017-11-17  307.907990  314.681000  299.252991  \n",
              "2017-11-18  316.716003  307.907990  314.681000  \n",
              "2017-11-19  337.631012  316.716003  307.907990  \n",
              "2017-11-20  333.356995  337.631012  316.716003  "
            ],
            "text/html": [
              "\n",
              "  <div id=\"df-aad848f8-ee9d-45fd-b875-a82be75bd98c\" class=\"colab-df-container\">\n",
              "    <div>\n",
              "<style scoped>\n",
              "    .dataframe tbody tr th:only-of-type {\n",
              "        vertical-align: middle;\n",
              "    }\n",
              "\n",
              "    .dataframe tbody tr th {\n",
              "        vertical-align: top;\n",
              "    }\n",
              "\n",
              "    .dataframe thead th {\n",
              "        text-align: right;\n",
              "    }\n",
              "</style>\n",
              "<table border=\"1\" class=\"dataframe\">\n",
              "  <thead>\n",
              "    <tr style=\"text-align: right;\">\n",
              "      <th></th>\n",
              "      <th>Price</th>\n",
              "      <th>Price+1</th>\n",
              "      <th>Price+2</th>\n",
              "      <th>Price+3</th>\n",
              "      <th>Price+4</th>\n",
              "      <th>Price+5</th>\n",
              "      <th>Price+6</th>\n",
              "      <th>Price+7</th>\n",
              "    </tr>\n",
              "    <tr>\n",
              "      <th>Date</th>\n",
              "      <th></th>\n",
              "      <th></th>\n",
              "      <th></th>\n",
              "      <th></th>\n",
              "      <th></th>\n",
              "      <th></th>\n",
              "      <th></th>\n",
              "      <th></th>\n",
              "    </tr>\n",
              "  </thead>\n",
              "  <tbody>\n",
              "    <tr>\n",
              "      <th>2017-11-16</th>\n",
              "      <td>330.924011</td>\n",
              "      <td>333.356995</td>\n",
              "      <td>337.631012</td>\n",
              "      <td>316.716003</td>\n",
              "      <td>307.907990</td>\n",
              "      <td>314.681000</td>\n",
              "      <td>299.252991</td>\n",
              "      <td>320.884003</td>\n",
              "    </tr>\n",
              "    <tr>\n",
              "      <th>2017-11-17</th>\n",
              "      <td>332.394012</td>\n",
              "      <td>330.924011</td>\n",
              "      <td>333.356995</td>\n",
              "      <td>337.631012</td>\n",
              "      <td>316.716003</td>\n",
              "      <td>307.907990</td>\n",
              "      <td>314.681000</td>\n",
              "      <td>299.252991</td>\n",
              "    </tr>\n",
              "    <tr>\n",
              "      <th>2017-11-18</th>\n",
              "      <td>347.612000</td>\n",
              "      <td>332.394012</td>\n",
              "      <td>330.924011</td>\n",
              "      <td>333.356995</td>\n",
              "      <td>337.631012</td>\n",
              "      <td>316.716003</td>\n",
              "      <td>307.907990</td>\n",
              "      <td>314.681000</td>\n",
              "    </tr>\n",
              "    <tr>\n",
              "      <th>2017-11-19</th>\n",
              "      <td>354.385986</td>\n",
              "      <td>347.612000</td>\n",
              "      <td>332.394012</td>\n",
              "      <td>330.924011</td>\n",
              "      <td>333.356995</td>\n",
              "      <td>337.631012</td>\n",
              "      <td>316.716003</td>\n",
              "      <td>307.907990</td>\n",
              "    </tr>\n",
              "    <tr>\n",
              "      <th>2017-11-20</th>\n",
              "      <td>366.730011</td>\n",
              "      <td>354.385986</td>\n",
              "      <td>347.612000</td>\n",
              "      <td>332.394012</td>\n",
              "      <td>330.924011</td>\n",
              "      <td>333.356995</td>\n",
              "      <td>337.631012</td>\n",
              "      <td>316.716003</td>\n",
              "    </tr>\n",
              "  </tbody>\n",
              "</table>\n",
              "</div>\n",
              "    <div class=\"colab-df-buttons\">\n",
              "\n",
              "  <div class=\"colab-df-container\">\n",
              "    <button class=\"colab-df-convert\" onclick=\"convertToInteractive('df-aad848f8-ee9d-45fd-b875-a82be75bd98c')\"\n",
              "            title=\"Convert this dataframe to an interactive table.\"\n",
              "            style=\"display:none;\">\n",
              "\n",
              "  <svg xmlns=\"http://www.w3.org/2000/svg\" height=\"24px\" viewBox=\"0 -960 960 960\">\n",
              "    <path d=\"M120-120v-720h720v720H120Zm60-500h600v-160H180v160Zm220 220h160v-160H400v160Zm0 220h160v-160H400v160ZM180-400h160v-160H180v160Zm440 0h160v-160H620v160ZM180-180h160v-160H180v160Zm440 0h160v-160H620v160Z\"/>\n",
              "  </svg>\n",
              "    </button>\n",
              "\n",
              "  <style>\n",
              "    .colab-df-container {\n",
              "      display:flex;\n",
              "      gap: 12px;\n",
              "    }\n",
              "\n",
              "    .colab-df-convert {\n",
              "      background-color: #E8F0FE;\n",
              "      border: none;\n",
              "      border-radius: 50%;\n",
              "      cursor: pointer;\n",
              "      display: none;\n",
              "      fill: #1967D2;\n",
              "      height: 32px;\n",
              "      padding: 0 0 0 0;\n",
              "      width: 32px;\n",
              "    }\n",
              "\n",
              "    .colab-df-convert:hover {\n",
              "      background-color: #E2EBFA;\n",
              "      box-shadow: 0px 1px 2px rgba(60, 64, 67, 0.3), 0px 1px 3px 1px rgba(60, 64, 67, 0.15);\n",
              "      fill: #174EA6;\n",
              "    }\n",
              "\n",
              "    .colab-df-buttons div {\n",
              "      margin-bottom: 4px;\n",
              "    }\n",
              "\n",
              "    [theme=dark] .colab-df-convert {\n",
              "      background-color: #3B4455;\n",
              "      fill: #D2E3FC;\n",
              "    }\n",
              "\n",
              "    [theme=dark] .colab-df-convert:hover {\n",
              "      background-color: #434B5C;\n",
              "      box-shadow: 0px 1px 3px 1px rgba(0, 0, 0, 0.15);\n",
              "      filter: drop-shadow(0px 1px 2px rgba(0, 0, 0, 0.3));\n",
              "      fill: #FFFFFF;\n",
              "    }\n",
              "  </style>\n",
              "\n",
              "    <script>\n",
              "      const buttonEl =\n",
              "        document.querySelector('#df-aad848f8-ee9d-45fd-b875-a82be75bd98c button.colab-df-convert');\n",
              "      buttonEl.style.display =\n",
              "        google.colab.kernel.accessAllowed ? 'block' : 'none';\n",
              "\n",
              "      async function convertToInteractive(key) {\n",
              "        const element = document.querySelector('#df-aad848f8-ee9d-45fd-b875-a82be75bd98c');\n",
              "        const dataTable =\n",
              "          await google.colab.kernel.invokeFunction('convertToInteractive',\n",
              "                                                    [key], {});\n",
              "        if (!dataTable) return;\n",
              "\n",
              "        const docLinkHtml = 'Like what you see? Visit the ' +\n",
              "          '<a target=\"_blank\" href=https://colab.research.google.com/notebooks/data_table.ipynb>data table notebook</a>'\n",
              "          + ' to learn more about interactive tables.';\n",
              "        element.innerHTML = '';\n",
              "        dataTable['output_type'] = 'display_data';\n",
              "        await google.colab.output.renderOutput(dataTable, element);\n",
              "        const docLink = document.createElement('div');\n",
              "        docLink.innerHTML = docLinkHtml;\n",
              "        element.appendChild(docLink);\n",
              "      }\n",
              "    </script>\n",
              "  </div>\n",
              "\n",
              "\n",
              "<div id=\"df-00f225dc-153e-43cb-92cb-70cafcd1dedc\">\n",
              "  <button class=\"colab-df-quickchart\" onclick=\"quickchart('df-00f225dc-153e-43cb-92cb-70cafcd1dedc')\"\n",
              "            title=\"Suggest charts\"\n",
              "            style=\"display:none;\">\n",
              "\n",
              "<svg xmlns=\"http://www.w3.org/2000/svg\" height=\"24px\"viewBox=\"0 0 24 24\"\n",
              "     width=\"24px\">\n",
              "    <g>\n",
              "        <path d=\"M19 3H5c-1.1 0-2 .9-2 2v14c0 1.1.9 2 2 2h14c1.1 0 2-.9 2-2V5c0-1.1-.9-2-2-2zM9 17H7v-7h2v7zm4 0h-2V7h2v10zm4 0h-2v-4h2v4z\"/>\n",
              "    </g>\n",
              "</svg>\n",
              "  </button>\n",
              "\n",
              "<style>\n",
              "  .colab-df-quickchart {\n",
              "      --bg-color: #E8F0FE;\n",
              "      --fill-color: #1967D2;\n",
              "      --hover-bg-color: #E2EBFA;\n",
              "      --hover-fill-color: #174EA6;\n",
              "      --disabled-fill-color: #AAA;\n",
              "      --disabled-bg-color: #DDD;\n",
              "  }\n",
              "\n",
              "  [theme=dark] .colab-df-quickchart {\n",
              "      --bg-color: #3B4455;\n",
              "      --fill-color: #D2E3FC;\n",
              "      --hover-bg-color: #434B5C;\n",
              "      --hover-fill-color: #FFFFFF;\n",
              "      --disabled-bg-color: #3B4455;\n",
              "      --disabled-fill-color: #666;\n",
              "  }\n",
              "\n",
              "  .colab-df-quickchart {\n",
              "    background-color: var(--bg-color);\n",
              "    border: none;\n",
              "    border-radius: 50%;\n",
              "    cursor: pointer;\n",
              "    display: none;\n",
              "    fill: var(--fill-color);\n",
              "    height: 32px;\n",
              "    padding: 0;\n",
              "    width: 32px;\n",
              "  }\n",
              "\n",
              "  .colab-df-quickchart:hover {\n",
              "    background-color: var(--hover-bg-color);\n",
              "    box-shadow: 0 1px 2px rgba(60, 64, 67, 0.3), 0 1px 3px 1px rgba(60, 64, 67, 0.15);\n",
              "    fill: var(--button-hover-fill-color);\n",
              "  }\n",
              "\n",
              "  .colab-df-quickchart-complete:disabled,\n",
              "  .colab-df-quickchart-complete:disabled:hover {\n",
              "    background-color: var(--disabled-bg-color);\n",
              "    fill: var(--disabled-fill-color);\n",
              "    box-shadow: none;\n",
              "  }\n",
              "\n",
              "  .colab-df-spinner {\n",
              "    border: 2px solid var(--fill-color);\n",
              "    border-color: transparent;\n",
              "    border-bottom-color: var(--fill-color);\n",
              "    animation:\n",
              "      spin 1s steps(1) infinite;\n",
              "  }\n",
              "\n",
              "  @keyframes spin {\n",
              "    0% {\n",
              "      border-color: transparent;\n",
              "      border-bottom-color: var(--fill-color);\n",
              "      border-left-color: var(--fill-color);\n",
              "    }\n",
              "    20% {\n",
              "      border-color: transparent;\n",
              "      border-left-color: var(--fill-color);\n",
              "      border-top-color: var(--fill-color);\n",
              "    }\n",
              "    30% {\n",
              "      border-color: transparent;\n",
              "      border-left-color: var(--fill-color);\n",
              "      border-top-color: var(--fill-color);\n",
              "      border-right-color: var(--fill-color);\n",
              "    }\n",
              "    40% {\n",
              "      border-color: transparent;\n",
              "      border-right-color: var(--fill-color);\n",
              "      border-top-color: var(--fill-color);\n",
              "    }\n",
              "    60% {\n",
              "      border-color: transparent;\n",
              "      border-right-color: var(--fill-color);\n",
              "    }\n",
              "    80% {\n",
              "      border-color: transparent;\n",
              "      border-right-color: var(--fill-color);\n",
              "      border-bottom-color: var(--fill-color);\n",
              "    }\n",
              "    90% {\n",
              "      border-color: transparent;\n",
              "      border-bottom-color: var(--fill-color);\n",
              "    }\n",
              "  }\n",
              "</style>\n",
              "\n",
              "  <script>\n",
              "    async function quickchart(key) {\n",
              "      const quickchartButtonEl =\n",
              "        document.querySelector('#' + key + ' button');\n",
              "      quickchartButtonEl.disabled = true;  // To prevent multiple clicks.\n",
              "      quickchartButtonEl.classList.add('colab-df-spinner');\n",
              "      try {\n",
              "        const charts = await google.colab.kernel.invokeFunction(\n",
              "            'suggestCharts', [key], {});\n",
              "      } catch (error) {\n",
              "        console.error('Error during call to suggestCharts:', error);\n",
              "      }\n",
              "      quickchartButtonEl.classList.remove('colab-df-spinner');\n",
              "      quickchartButtonEl.classList.add('colab-df-quickchart-complete');\n",
              "    }\n",
              "    (() => {\n",
              "      let quickchartButtonEl =\n",
              "        document.querySelector('#df-00f225dc-153e-43cb-92cb-70cafcd1dedc button');\n",
              "      quickchartButtonEl.style.display =\n",
              "        google.colab.kernel.accessAllowed ? 'block' : 'none';\n",
              "    })();\n",
              "  </script>\n",
              "</div>\n",
              "\n",
              "    </div>\n",
              "  </div>\n"
            ],
            "application/vnd.google.colaboratory.intrinsic+json": {
              "type": "dataframe",
              "summary": "{\n  \"name\": \"ethereum_prices_nbeats\",\n  \"rows\": 5,\n  \"fields\": [\n    {\n      \"column\": \"Date\",\n      \"properties\": {\n        \"dtype\": \"date\",\n        \"min\": \"2017-11-16 00:00:00\",\n        \"max\": \"2017-11-20 00:00:00\",\n        \"num_unique_values\": 5,\n        \"samples\": [\n          \"2017-11-17 00:00:00\",\n          \"2017-11-20 00:00:00\",\n          \"2017-11-18 00:00:00\"\n        ],\n        \"semantic_type\": \"\",\n        \"description\": \"\"\n      }\n    },\n    {\n      \"column\": \"Price\",\n      \"properties\": {\n        \"dtype\": \"number\",\n        \"std\": 15.11809987621214,\n        \"min\": 330.924011,\n        \"max\": 366.730011,\n        \"num_unique_values\": 5,\n        \"samples\": [\n          332.394012,\n          366.730011,\n          347.612\n        ],\n        \"semantic_type\": \"\",\n        \"description\": \"\"\n      }\n    },\n    {\n      \"column\": \"Price+1\",\n      \"properties\": {\n        \"dtype\": \"number\",\n        \"std\": 10.593643126064844,\n        \"min\": 330.924011,\n        \"max\": 354.385986,\n        \"num_unique_values\": 5,\n        \"samples\": [\n          330.924011,\n          354.385986,\n          332.394012\n        ],\n        \"semantic_type\": \"\",\n        \"description\": \"\"\n      }\n    },\n    {\n      \"column\": \"Price+2\",\n      \"properties\": {\n        \"dtype\": \"number\",\n        \"std\": 6.7549475486907875,\n        \"min\": 330.924011,\n        \"max\": 347.612,\n        \"num_unique_values\": 5,\n        \"samples\": [\n          333.356995,\n          347.612,\n          330.924011\n        ],\n        \"semantic_type\": \"\",\n        \"description\": \"\"\n      }\n    },\n    {\n      \"column\": \"Price+3\",\n      \"properties\": {\n        \"dtype\": \"number\",\n        \"std\": 7.942646211493764,\n        \"min\": 316.716003,\n        \"max\": 337.631012,\n        \"num_unique_values\": 5,\n        \"samples\": [\n          337.631012,\n          332.394012,\n          333.356995\n        ],\n        \"semantic_type\": \"\",\n        \"description\": \"\"\n      }\n    },\n    {\n      \"column\": \"Price+4\",\n      \"properties\": {\n        \"dtype\": \"number\",\n        \"std\": 12.497652600388355,\n        \"min\": 307.90799,\n        \"max\": 337.631012,\n        \"num_unique_values\": 5,\n        \"samples\": [\n          316.716003,\n          330.924011,\n          337.631012\n        ],\n        \"semantic_type\": \"\",\n        \"description\": \"\"\n      }\n    },\n    {\n      \"column\": \"Price+5\",\n      \"properties\": {\n        \"dtype\": \"number\",\n        \"std\": 12.780510875061669,\n        \"min\": 307.90799,\n        \"max\": 337.631012,\n        \"num_unique_values\": 5,\n        \"samples\": [\n          307.90799,\n          333.356995,\n          316.716003\n        ],\n        \"semantic_type\": \"\",\n        \"description\": \"\"\n      }\n    },\n    {\n      \"column\": \"Price+6\",\n      \"properties\": {\n        \"dtype\": \"number\",\n        \"std\": 14.258254516496143,\n        \"min\": 299.252991,\n        \"max\": 337.631012,\n        \"num_unique_values\": 5,\n        \"samples\": [\n          314.681,\n          337.631012,\n          307.90799\n        ],\n        \"semantic_type\": \"\",\n        \"description\": \"\"\n      }\n    },\n    {\n      \"column\": \"Price+7\",\n      \"properties\": {\n        \"dtype\": \"number\",\n        \"std\": 8.478243674024785,\n        \"min\": 299.252991,\n        \"max\": 320.884003,\n        \"num_unique_values\": 5,\n        \"samples\": [\n          299.252991,\n          316.716003,\n          314.681\n        ],\n        \"semantic_type\": \"\",\n        \"description\": \"\"\n      }\n    }\n  ]\n}"
            }
          },
          "metadata": {},
          "execution_count": 59
        }
      ]
    },
    {
      "cell_type": "code",
      "source": [
        "# Make features and labels\n",
        "X = ethereum_prices_nbeats.dropna().drop(\"Price\", axis=1)\n",
        "y = ethereum_prices_nbeats.dropna()[\"Price\"]\n",
        "\n",
        "# Make train and test sets\n",
        "split_size = int(len(X) * 0.8)\n",
        "X_train, y_train = X[:split_size], y[:split_size]\n",
        "X_test, y_test = X[split_size:], y[split_size:]\n",
        "len(X_train), len(y_train), len(X_test), len(y_test)"
      ],
      "metadata": {
        "colab": {
          "base_uri": "https://localhost:8080/"
        },
        "id": "FMWldEkY8J9j",
        "outputId": "d4b965ec-83dc-4bec-8ce4-414df6956f59"
      },
      "execution_count": 60,
      "outputs": [
        {
          "output_type": "execute_result",
          "data": {
            "text/plain": [
              "(1856, 1856, 465, 465)"
            ]
          },
          "metadata": {},
          "execution_count": 60
        }
      ]
    },
    {
      "cell_type": "code",
      "source": [
        "# 1. Turn train and test arrays into tensor Datasets\n",
        "train_features_dataset = tf.data.Dataset.from_tensor_slices(X_train)\n",
        "train_labels_dataset = tf.data.Dataset.from_tensor_slices(y_train)\n",
        "\n",
        "test_features_dataset = tf.data.Dataset.from_tensor_slices(X_test)\n",
        "test_labels_dataset = tf.data.Dataset.from_tensor_slices(y_test)\n",
        "\n",
        "# 2. Combine features & labels\n",
        "train_dataset = tf.data.Dataset.zip((train_features_dataset, train_labels_dataset))\n",
        "test_dataset = tf.data.Dataset.zip((test_features_dataset, test_labels_dataset))\n",
        "\n",
        "# 3. Batch and prefetch for optimal performance\n",
        "BATCH_SIZE = 1024 # taken from Appendix D in N-BEATS paper\n",
        "train_dataset = train_dataset.batch(BATCH_SIZE).prefetch(tf.data.AUTOTUNE)\n",
        "test_dataset = test_dataset.batch(BATCH_SIZE).prefetch(tf.data.AUTOTUNE)\n",
        "\n",
        "train_dataset, test_dataset"
      ],
      "metadata": {
        "colab": {
          "base_uri": "https://localhost:8080/"
        },
        "id": "e-5dW7MW8R8L",
        "outputId": "989f86c1-31f5-4041-bd8d-78717dbf1ccb"
      },
      "execution_count": 61,
      "outputs": [
        {
          "output_type": "execute_result",
          "data": {
            "text/plain": [
              "(<_PrefetchDataset element_spec=(TensorSpec(shape=(None, 7), dtype=tf.float64, name=None), TensorSpec(shape=(None,), dtype=tf.float64, name=None))>,\n",
              " <_PrefetchDataset element_spec=(TensorSpec(shape=(None, 7), dtype=tf.float64, name=None), TensorSpec(shape=(None,), dtype=tf.float64, name=None))>)"
            ]
          },
          "metadata": {},
          "execution_count": 61
        }
      ]
    },
    {
      "cell_type": "code",
      "source": [
        "N_EPOCHS = 5000\n",
        "N_NEURONS = 512\n",
        "N_LAYERS = 4\n",
        "N_STACKS = 30\n",
        "\n",
        "INPUT_SIZE = WINDOW_SIZE * HORIZON\n",
        "THETA_SIZE = INPUT_SIZE + HORIZON\n",
        "\n",
        "INPUT_SIZE, THETA_SIZE"
      ],
      "metadata": {
        "colab": {
          "base_uri": "https://localhost:8080/"
        },
        "id": "yorLnqD78ov9",
        "outputId": "b6159126-1ed9-42a5-9dfc-db46d3bef86d"
      },
      "execution_count": 62,
      "outputs": [
        {
          "output_type": "execute_result",
          "data": {
            "text/plain": [
              "(7, 8)"
            ]
          },
          "metadata": {},
          "execution_count": 62
        }
      ]
    },
    {
      "cell_type": "code",
      "source": [
        "# Make tensors\n",
        "tensor_1 = tf.range(10) + 10\n",
        "tensor_2 = tf.range(10)\n",
        "\n",
        "# Subtract\n",
        "subtracted = layers.subtract([tensor_1, tensor_2])\n",
        "\n",
        "# Add\n",
        "added = layers.add([tensor_1, tensor_2])\n",
        "\n",
        "print(f\"Input tensors: {tensor_1.numpy()} & {tensor_2.numpy()}\")\n",
        "print(f\"Subtracted: {subtracted.numpy()}\")\n",
        "print(f\"Added: {added.numpy()}\")"
      ],
      "metadata": {
        "colab": {
          "base_uri": "https://localhost:8080/"
        },
        "id": "uL7_ohRf8wZM",
        "outputId": "f46296a2-307d-41e8-eb49-63e91e92edb5"
      },
      "execution_count": 63,
      "outputs": [
        {
          "output_type": "stream",
          "name": "stdout",
          "text": [
            "Input tensors: [10 11 12 13 14 15 16 17 18 19] & [0 1 2 3 4 5 6 7 8 9]\n",
            "Subtracted: [10 10 10 10 10 10 10 10 10 10]\n",
            "Added: [10 12 14 16 18 20 22 24 26 28]\n"
          ]
        }
      ]
    },
    {
      "cell_type": "code",
      "source": [],
      "metadata": {
        "id": "lGyf8Poy85ZQ"
      },
      "execution_count": 63,
      "outputs": []
    }
  ]
}